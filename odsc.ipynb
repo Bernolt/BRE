{
 "cells": [
  {
   "cell_type": "markdown",
   "metadata": {},
   "source": [
    "## How to Build a Recommendation Engine That Isn’t Movielens\n",
    "\n",
    "Max Humber \n",
    "\n",
    "- [Twitter](https://twitter.com/maxhumber)\n",
    "- [LinkedIn](https://www.linkedin.com/in/maxhumber/)\n",
    "- [GitHub](https://github.com/maxhumber)"
   ]
  },
  {
   "cell_type": "markdown",
   "metadata": {},
   "source": [
    "Abstract:\n",
    "\n",
    "> Recommendation engines are pretty simple. Or at least, they are made to seem simple by an uncountable number of online tutorials. The only problem: **it’s hard to find a tutorial that doesn’t use** the ready-made and pre-baked **MovieLens** dataset. Fine. But, perhaps you’ve followed one of these tutorials and have struggled to imagine how to, or otherwise implement your own recommendation engine on your own data. In this workshop, I’ll show you how to use industry-leading open source tools to **build your own engine** and how to **structure your own data** so that it might be “recommendation-compatible”."
   ]
  },
  {
   "cell_type": "code",
   "execution_count": 1,
   "metadata": {},
   "outputs": [],
   "source": [
    "import warnings\n",
    "warnings.filterwarnings(\"ignore\", category=UserWarning)"
   ]
  },
  {
   "cell_type": "markdown",
   "metadata": {},
   "source": [
    "### MovieLens"
   ]
  },
  {
   "cell_type": "markdown",
   "metadata": {},
   "source": [
    "![](images/movielens.png)"
   ]
  },
  {
   "cell_type": "markdown",
   "metadata": {},
   "source": [
    "### Quickstart"
   ]
  },
  {
   "cell_type": "markdown",
   "metadata": {},
   "source": [
    "```sh\n",
    "pip install lightfm\n",
    "```"
   ]
  },
  {
   "cell_type": "code",
   "execution_count": 2,
   "metadata": {},
   "outputs": [
    {
     "data": {
      "text/plain": [
       "0.05310436"
      ]
     },
     "execution_count": 2,
     "metadata": {},
     "output_type": "execute_result"
    }
   ],
   "source": [
    "from lightfm import LightFM\n",
    "from lightfm.datasets import fetch_movielens\n",
    "from lightfm.evaluation import precision_at_k\n",
    "\n",
    "data = fetch_movielens(min_rating=5.0)\n",
    "model = LightFM(loss='warp')\n",
    "model.fit(data['train'], epochs=30, num_threads=2)\n",
    "\n",
    "precision_at_k(model, data['test'], k=5).mean()"
   ]
  },
  {
   "cell_type": "code",
   "execution_count": 3,
   "metadata": {},
   "outputs": [
    {
     "data": {
      "text/plain": [
       "{'train': <943x1682 sparse matrix of type '<class 'numpy.float32'>'\n",
       " \twith 19048 stored elements in COOrdinate format>,\n",
       " 'test': <943x1682 sparse matrix of type '<class 'numpy.int32'>'\n",
       " \twith 2153 stored elements in COOrdinate format>,\n",
       " 'item_features': <1682x1682 sparse matrix of type '<class 'numpy.float32'>'\n",
       " \twith 1682 stored elements in Compressed Sparse Row format>,\n",
       " 'item_feature_labels': array(['Toy Story (1995)', 'GoldenEye (1995)', 'Four Rooms (1995)', ...,\n",
       "        'Sliding Doors (1998)', 'You So Crazy (1994)',\n",
       "        'Scream of Stone (Schrei aus Stein) (1991)'], dtype=object),\n",
       " 'item_labels': array(['Toy Story (1995)', 'GoldenEye (1995)', 'Four Rooms (1995)', ...,\n",
       "        'Sliding Doors (1998)', 'You So Crazy (1994)',\n",
       "        'Scream of Stone (Schrei aus Stein) (1991)'], dtype=object)}"
      ]
     },
     "execution_count": 3,
     "metadata": {},
     "output_type": "execute_result"
    }
   ],
   "source": [
    "data"
   ]
  },
  {
   "cell_type": "code",
   "execution_count": 4,
   "metadata": {},
   "outputs": [
    {
     "data": {
      "text/plain": [
       "<943x1682 sparse matrix of type '<class 'numpy.float32'>'\n",
       "\twith 19048 stored elements in COOrdinate format>"
      ]
     },
     "execution_count": 4,
     "metadata": {},
     "output_type": "execute_result"
    }
   ],
   "source": [
    "data['train']"
   ]
  },
  {
   "cell_type": "markdown",
   "metadata": {},
   "source": [
    "### Data"
   ]
  },
  {
   "cell_type": "markdown",
   "metadata": {},
   "source": [
    "![](images/halloween.png)"
   ]
  },
  {
   "cell_type": "markdown",
   "metadata": {},
   "source": [
    "![](images/candy.jpg)"
   ]
  },
  {
   "cell_type": "markdown",
   "metadata": {},
   "source": [
    "![](images/influenster.png)"
   ]
  },
  {
   "cell_type": "markdown",
   "metadata": {},
   "source": [
    "This was working on 2019-10-19:\n",
    "\n",
    "```python\n",
    "import time\n",
    "import json\n",
    "import random\n",
    "from selenium.webdriver import Firefox\n",
    "from selenium.webdriver.firefox.options import Options\n",
    "from gazpacho import Soup\n",
    "from tqdm import tqdm\n",
    "import pandas as pd\n",
    "\n",
    "options = Options()\n",
    "options.headless = True\n",
    "browser = Firefox(options=options)\n",
    "\n",
    "def make_soup(url):\n",
    "    browser.get(url)\n",
    "    html = browser.page_source\n",
    "    soup = Soup(html)\n",
    "    return soup\n",
    "\n",
    "def build_review_url(product, page):\n",
    "    base = 'https://www.influenster.com'\n",
    "    url = f'{base}/{product}?review_sort=most+recent&review_page={page}'\n",
    "    return url\n",
    "\n",
    "def parse_review(product, review):\n",
    "    stars = int(review.find('div', {'class': 'avg-stars'}).attrs['data-stars'])\n",
    "    user = review.find('div', {'class': 'content-item-author-info'}).find('a').attrs['href'][1:]\n",
    "    return {'product': product, 'user': user, 'stars': stars}\n",
    "\n",
    "def scrape_product_page(product, page):\n",
    "    url = build_review_url(product, page)\n",
    "    soup = make_soup(url)\n",
    "    page_reviews = soup.find('div', {'class': 'content-item review-item'})\n",
    "    return [parse_review(product, r) for r in page_reviews]\n",
    "\n",
    "def scrape_product(product):\n",
    "    url = build_review_url(product, 1)\n",
    "    soup = make_soup(url)\n",
    "    pages = int(\n",
    "        soup.find('div', {'class': 'product-highlights-results'})\n",
    "        .text\n",
    "        .replace(',', '')\n",
    "        .split(' ')[0]\n",
    "    ) // 10 + 1\n",
    "    pages = min(pages, 100)\n",
    "    pages = list(range(1, pages+1))\n",
    "    random.shuffle(pages)\n",
    "    reviews = []\n",
    "    for page in pages:\n",
    "        print(f'scraping page: {page}')\n",
    "        page_reviews = scrape_product_page(product, page)\n",
    "        reviews.extend(page_reviews)\n",
    "        time.sleep(random.randint(1, 10) / 10)\n",
    "    return reviews\n",
    "\n",
    "def scrape_index(category='sweets-candy-gum'):\n",
    "    product_index = []\n",
    "    for page in tqdm(range(1, 10+1)):\n",
    "        url = f'https://www.influenster.com/reviews/{category}?page={page}'\n",
    "        soup = make_soup(url)\n",
    "        products = soup.find('a', {'class': 'category-product'}, strict=True)\n",
    "        products = [p.attrs['href'] for p in products]\n",
    "        candy.extend(products)\n",
    "        time.sleep(random.randint(1, 10) / 10)\n",
    "    return product_index\n",
    "\n",
    "if __name__ == '__main__':\n",
    "\n",
    "    product_index = scrape_index(category='sweets-candy-gum')\n",
    "\n",
    "    product_reviews = []\n",
    "    for product in tqdm(product_index):\n",
    "        print(f'scraping: {product}')\n",
    "        try:\n",
    "            reviews = scrape_product(product)\n",
    "            product_reviews.extend(reviews)\n",
    "        except:\n",
    "            pass\n",
    "        time.sleep(random.randint(1, 10) / 10)\n",
    "\n",
    "    df = pd.DataFrame(product_reviews)\n",
    "    df.to_csv('data/candy.csv', index=False)\n",
    "```"
   ]
  },
  {
   "cell_type": "markdown",
   "metadata": {},
   "source": [
    "![](images/cat_and_mouse.jpg)"
   ]
  },
  {
   "cell_type": "markdown",
   "metadata": {},
   "source": [
    "### Scrape "
   ]
  },
  {
   "cell_type": "markdown",
   "metadata": {},
   "source": [
    "![](images/influenster_index.png)"
   ]
  },
  {
   "cell_type": "markdown",
   "metadata": {},
   "source": [
    "[Source](https://www.influenster.com/reviews/sweets-candy-gum)"
   ]
  },
  {
   "cell_type": "code",
   "execution_count": 5,
   "metadata": {},
   "outputs": [],
   "source": [
    "with open('influenster/index.html', 'r') as f:\n",
    "    html = f.read()"
   ]
  },
  {
   "cell_type": "markdown",
   "metadata": {},
   "source": [
    "![](images/gazpacho.png)"
   ]
  },
  {
   "cell_type": "markdown",
   "metadata": {},
   "source": [
    "```\n",
    "pip install gazpacho\n",
    "```"
   ]
  },
  {
   "cell_type": "code",
   "execution_count": 6,
   "metadata": {},
   "outputs": [],
   "source": [
    "from gazpacho import Soup"
   ]
  },
  {
   "cell_type": "code",
   "execution_count": 7,
   "metadata": {},
   "outputs": [],
   "source": [
    "soup = Soup(html)"
   ]
  },
  {
   "cell_type": "code",
   "execution_count": 8,
   "metadata": {},
   "outputs": [],
   "source": [
    "products = soup.find('a', {'class': 'category-product'})"
   ]
  },
  {
   "cell_type": "code",
   "execution_count": 9,
   "metadata": {},
   "outputs": [
    {
     "data": {
      "text/plain": [
       "<a class=\"category-product\" href=\"https://www.influenster.com/reviews/reeses-peanut-butter-cups-miniatures-76\"><div class=\"category-product-image-container\"><div class=\"category-product-image\" style=\"background-image: url(\"index_files/51107862.jpg\");\"><img itemprop=\"image\" data-img=\"div\" src=\"index_files/51107862.jpg\" alt=\"Reese's Peanut Butter Cups Miniatures\" width=\"0\" height=\"0\"></div></div><div class=\"category-product-detail\"><div class=\"category-product-title\" data-truncate-lines=\"3\" style=\"overflow-wrap: break-word;\">Reese's Peanut Butter Cups Miniatures</div><div class=\"category-product-brand\">\n",
       "By Reese's\n",
       "</div><div class=\"category-product-stars\"><div class=\"avg-stars small \" data-stars=\"4.82880054868237\"><div class=\"star\"><i class=\"star-icon\"></i><div class=\"progress\" data-star=\"1\" data-progress=\"100\"></div></div><div class=\"star\"><i class=\"star-icon\"></i><div class=\"progress\" data-star=\"2\" data-progress=\"100\"></div></div><div class=\"star\"><i class=\"star-icon\"></i><div class=\"progress\" data-star=\"3\" data-progress=\"100\"></div></div><div class=\"star\"><i class=\"star-icon\"></i><div class=\"progress\" data-star=\"4\" data-progress=\"100\"></div></div><div class=\"star\"><i class=\"star-icon\"></i><div class=\"progress\" data-star=\"5\" data-progress=\"82\"></div></div></div><div class=\"category-product-rating\"><strong>4.8</strong> (37,909 reviews)</div></div><div class=\"category-product-varieties\"></div></div></a>"
      ]
     },
     "execution_count": 9,
     "metadata": {},
     "output_type": "execute_result"
    }
   ],
   "source": [
    "products[0]"
   ]
  },
  {
   "cell_type": "code",
   "execution_count": 10,
   "metadata": {},
   "outputs": [],
   "source": [
    "products = [p.attrs['href'] for p in products]"
   ]
  },
  {
   "cell_type": "code",
   "execution_count": 11,
   "metadata": {},
   "outputs": [
    {
     "data": {
      "text/plain": [
       "['https://www.influenster.com/reviews/reeses-peanut-butter-cups-miniatures-76',\n",
       " 'https://www.influenster.com/reviews/ferrero-rocher-chocolate',\n",
       " 'https://www.influenster.com/reviews/kit-kat-crisp-wafers-in-milk-chocolate',\n",
       " 'https://www.influenster.com/reviews/lindt-lindor-milk-chocolate-truffles',\n",
       " 'https://www.influenster.com/reviews/hersheys-cookies-n-creme-candy-bar']"
      ]
     },
     "execution_count": 11,
     "metadata": {},
     "output_type": "execute_result"
    }
   ],
   "source": [
    "products[:5]"
   ]
  },
  {
   "cell_type": "markdown",
   "metadata": {},
   "source": [
    "![](images/influenster_skittles.png)"
   ]
  },
  {
   "cell_type": "code",
   "execution_count": 12,
   "metadata": {},
   "outputs": [],
   "source": [
    "with open('influenster/skittles.html', 'r') as f:\n",
    "    html = f.read()"
   ]
  },
  {
   "cell_type": "code",
   "execution_count": 13,
   "metadata": {},
   "outputs": [],
   "source": [
    "soup = Soup(html)"
   ]
  },
  {
   "cell_type": "code",
   "execution_count": 14,
   "metadata": {},
   "outputs": [],
   "source": [
    "reviews = (soup\n",
    "    .find('div', {'class': 'layoutComponents__Block-l2otzz-0 efHRYv'}, strict=True)\n",
    "    .find('div', {'class': 'item wrappers__Wrapper-sc-1mex847-0 jEYnle'})\n",
    ")"
   ]
  },
  {
   "cell_type": "code",
   "execution_count": 15,
   "metadata": {},
   "outputs": [
    {
     "data": {
      "text/plain": [
       "'<div class=\"item wrappers__Wrapper-sc-1mex847-0 jEYnle\">\\n                                            <div class=\"author-card authorCard__AuthorCardWrapperDesktop-sc-26la3e-1 hAEwt\"><a aria-label=\"anahce0f\" href=\"/anahce0f\">\\n                                                    <div class=\"mediaComponents__ImageContainer-sc-1gsoaz-0 bEUCqQ\" style=\"border-radius:50%\" size=\"70\"></div>\\n                                                </a>\\n                                                <div>\\n          '"
      ]
     },
     "execution_count": 15,
     "metadata": {},
     "output_type": "execute_result"
    }
   ],
   "source": [
    "str(reviews[0])[:500]"
   ]
  },
  {
   "cell_type": "code",
   "execution_count": 16,
   "metadata": {},
   "outputs": [],
   "source": [
    "# activity > parse review 5 minutes"
   ]
  },
  {
   "cell_type": "code",
   "execution_count": 17,
   "metadata": {},
   "outputs": [],
   "source": [
    "def parse_review(review):\n",
    "    stars = len(review.find('div', {'class': 'productComponents__SingleStar-sc-1ffpes9-3 kzXpnS'}))\n",
    "    user = (review.find('div',\n",
    "        {'class': 'layoutComponents__Row-l2otzz-2 MSbai layoutComponents__Block-l2otzz-0 ixyxcj'}\n",
    "        ).find('a').attrs['href'])[1:]\n",
    "    return {'user': user, 'stars': stars}"
   ]
  },
  {
   "cell_type": "code",
   "execution_count": 18,
   "metadata": {},
   "outputs": [
    {
     "data": {
      "text/plain": [
       "{'user': 'anahce0f', 'stars': 5}"
      ]
     },
     "execution_count": 18,
     "metadata": {},
     "output_type": "execute_result"
    }
   ],
   "source": [
    "review = reviews[0]\n",
    "parse_review(review)"
   ]
  },
  {
   "cell_type": "code",
   "execution_count": 19,
   "metadata": {},
   "outputs": [
    {
     "data": {
      "text/plain": [
       "[{'user': 'anahce0f', 'stars': 5},\n",
       " {'user': 'rileyc2ef0', 'stars': 5},\n",
       " {'user': 'danielledowsett', 'stars': 5},\n",
       " {'user': 'candygirl7585', 'stars': 5},\n",
       " {'user': 'marnishaw', 'stars': 5},\n",
       " {'user': 'megfields', 'stars': 4},\n",
       " {'user': 'member-a58a7cd88', 'stars': 4},\n",
       " {'user': 'darcywood', 'stars': 5},\n",
       " {'user': 'amandaj64', 'stars': 5},\n",
       " {'user': 'member-930e4ca64', 'stars': 4}]"
      ]
     },
     "execution_count": 19,
     "metadata": {},
     "output_type": "execute_result"
    }
   ],
   "source": [
    "candy = [parse_review(r) for r in reviews]\n",
    "candy"
   ]
  },
  {
   "cell_type": "code",
   "execution_count": 20,
   "metadata": {},
   "outputs": [
    {
     "data": {
      "text/html": [
       "<div>\n",
       "<style scoped>\n",
       "    .dataframe tbody tr th:only-of-type {\n",
       "        vertical-align: middle;\n",
       "    }\n",
       "\n",
       "    .dataframe tbody tr th {\n",
       "        vertical-align: top;\n",
       "    }\n",
       "\n",
       "    .dataframe thead th {\n",
       "        text-align: right;\n",
       "    }\n",
       "</style>\n",
       "<table border=\"1\" class=\"dataframe\">\n",
       "  <thead>\n",
       "    <tr style=\"text-align: right;\">\n",
       "      <th></th>\n",
       "      <th>stars</th>\n",
       "      <th>user</th>\n",
       "      <th>item</th>\n",
       "    </tr>\n",
       "  </thead>\n",
       "  <tbody>\n",
       "    <tr>\n",
       "      <th>0</th>\n",
       "      <td>5</td>\n",
       "      <td>anahce0f</td>\n",
       "      <td>skittles</td>\n",
       "    </tr>\n",
       "    <tr>\n",
       "      <th>1</th>\n",
       "      <td>5</td>\n",
       "      <td>rileyc2ef0</td>\n",
       "      <td>skittles</td>\n",
       "    </tr>\n",
       "    <tr>\n",
       "      <th>2</th>\n",
       "      <td>5</td>\n",
       "      <td>danielledowsett</td>\n",
       "      <td>skittles</td>\n",
       "    </tr>\n",
       "    <tr>\n",
       "      <th>3</th>\n",
       "      <td>5</td>\n",
       "      <td>candygirl7585</td>\n",
       "      <td>skittles</td>\n",
       "    </tr>\n",
       "    <tr>\n",
       "      <th>4</th>\n",
       "      <td>5</td>\n",
       "      <td>marnishaw</td>\n",
       "      <td>skittles</td>\n",
       "    </tr>\n",
       "    <tr>\n",
       "      <th>5</th>\n",
       "      <td>4</td>\n",
       "      <td>megfields</td>\n",
       "      <td>skittles</td>\n",
       "    </tr>\n",
       "    <tr>\n",
       "      <th>6</th>\n",
       "      <td>4</td>\n",
       "      <td>member-a58a7cd88</td>\n",
       "      <td>skittles</td>\n",
       "    </tr>\n",
       "    <tr>\n",
       "      <th>7</th>\n",
       "      <td>5</td>\n",
       "      <td>darcywood</td>\n",
       "      <td>skittles</td>\n",
       "    </tr>\n",
       "    <tr>\n",
       "      <th>8</th>\n",
       "      <td>5</td>\n",
       "      <td>amandaj64</td>\n",
       "      <td>skittles</td>\n",
       "    </tr>\n",
       "    <tr>\n",
       "      <th>9</th>\n",
       "      <td>4</td>\n",
       "      <td>member-930e4ca64</td>\n",
       "      <td>skittles</td>\n",
       "    </tr>\n",
       "  </tbody>\n",
       "</table>\n",
       "</div>"
      ],
      "text/plain": [
       "   stars              user      item\n",
       "0      5          anahce0f  skittles\n",
       "1      5        rileyc2ef0  skittles\n",
       "2      5   danielledowsett  skittles\n",
       "3      5     candygirl7585  skittles\n",
       "4      5         marnishaw  skittles\n",
       "5      4         megfields  skittles\n",
       "6      4  member-a58a7cd88  skittles\n",
       "7      5         darcywood  skittles\n",
       "8      5         amandaj64  skittles\n",
       "9      4  member-930e4ca64  skittles"
      ]
     },
     "execution_count": 20,
     "metadata": {},
     "output_type": "execute_result"
    }
   ],
   "source": [
    "import pandas as pd\n",
    "\n",
    "df = pd.DataFrame(candy)\n",
    "df['item'] = 'skittles'\n",
    "df"
   ]
  },
  {
   "cell_type": "markdown",
   "metadata": {},
   "source": [
    "### EDA"
   ]
  },
  {
   "cell_type": "code",
   "execution_count": 21,
   "metadata": {},
   "outputs": [
    {
     "data": {
      "text/html": [
       "<div>\n",
       "<style scoped>\n",
       "    .dataframe tbody tr th:only-of-type {\n",
       "        vertical-align: middle;\n",
       "    }\n",
       "\n",
       "    .dataframe tbody tr th {\n",
       "        vertical-align: top;\n",
       "    }\n",
       "\n",
       "    .dataframe thead th {\n",
       "        text-align: right;\n",
       "    }\n",
       "</style>\n",
       "<table border=\"1\" class=\"dataframe\">\n",
       "  <thead>\n",
       "    <tr style=\"text-align: right;\">\n",
       "      <th></th>\n",
       "      <th>item</th>\n",
       "      <th>user</th>\n",
       "      <th>review</th>\n",
       "    </tr>\n",
       "  </thead>\n",
       "  <tbody>\n",
       "    <tr>\n",
       "      <th>13140</th>\n",
       "      <td>Reese's Pieces Peanut Butter Candy</td>\n",
       "      <td>zjones</td>\n",
       "      <td>5</td>\n",
       "    </tr>\n",
       "    <tr>\n",
       "      <th>1036</th>\n",
       "      <td>Jolly Rancher Sugar Free Hard Candy</td>\n",
       "      <td>brittanyrichard</td>\n",
       "      <td>5</td>\n",
       "    </tr>\n",
       "    <tr>\n",
       "      <th>3432</th>\n",
       "      <td>5 Gum</td>\n",
       "      <td>smithjenny</td>\n",
       "      <td>3</td>\n",
       "    </tr>\n",
       "    <tr>\n",
       "      <th>6970</th>\n",
       "      <td>Reese's Peanut Butter Cups Miniatures</td>\n",
       "      <td>rojasjoseph</td>\n",
       "      <td>5</td>\n",
       "    </tr>\n",
       "    <tr>\n",
       "      <th>7700</th>\n",
       "      <td>Snickers Chocolate Bar</td>\n",
       "      <td>douglasalvarez</td>\n",
       "      <td>5</td>\n",
       "    </tr>\n",
       "  </tbody>\n",
       "</table>\n",
       "</div>"
      ],
      "text/plain": [
       "                                        item             user  review\n",
       "13140     Reese's Pieces Peanut Butter Candy           zjones       5\n",
       "1036     Jolly Rancher Sugar Free Hard Candy  brittanyrichard       5\n",
       "3432                                   5 Gum       smithjenny       3\n",
       "6970   Reese's Peanut Butter Cups Miniatures      rojasjoseph       5\n",
       "7700                  Snickers Chocolate Bar   douglasalvarez       5"
      ]
     },
     "execution_count": 21,
     "metadata": {},
     "output_type": "execute_result"
    }
   ],
   "source": [
    "import pandas as pd\n",
    "\n",
    "df = pd.read_csv('data/candy.csv')\n",
    "\n",
    "df.sample(5)"
   ]
  },
  {
   "cell_type": "code",
   "execution_count": 22,
   "metadata": {},
   "outputs": [
    {
     "data": {
      "text/plain": [
       "Twix                                       340\n",
       "Snickers Chocolate Bar                     330\n",
       "Werther's Original Caramel Hard Candies    322\n",
       "M&Ms Peanut Chocolate Candy                310\n",
       "M&Ms Milk Chocolate Candy                  273\n",
       "Name: item, dtype: int64"
      ]
     },
     "execution_count": 22,
     "metadata": {},
     "output_type": "execute_result"
    }
   ],
   "source": [
    "df['item'].value_counts()[:5]"
   ]
  },
  {
   "cell_type": "code",
   "execution_count": 23,
   "metadata": {},
   "outputs": [
    {
     "data": {
      "text/plain": [
       "(142,)"
      ]
     },
     "execution_count": 23,
     "metadata": {},
     "output_type": "execute_result"
    }
   ],
   "source": [
    "df['item'].unique().shape"
   ]
  },
  {
   "cell_type": "code",
   "execution_count": 24,
   "metadata": {},
   "outputs": [
    {
     "data": {
      "text/plain": [
       "(2531,)"
      ]
     },
     "execution_count": 24,
     "metadata": {},
     "output_type": "execute_result"
    }
   ],
   "source": [
    "df['user'].unique().shape"
   ]
  },
  {
   "cell_type": "code",
   "execution_count": 25,
   "metadata": {},
   "outputs": [
    {
     "name": "stdout",
     "output_type": "stream",
     "text": [
      "        x\n",
      "        x\n",
      "        x\n",
      "        x\n",
      "        x\n",
      "        x\n",
      "        x\n",
      "        x\n",
      "        x\n",
      "        x\n",
      "        x\n",
      "        x\n",
      "        x\n",
      "        x\n",
      "        x\n",
      "        x\n",
      "      x x\n",
      "      x x\n",
      "      x x\n",
      "x x x x x\n",
      "\n"
     ]
    }
   ],
   "source": [
    "import chart # pip install chart\n",
    "\n",
    "chart.histogram(df['review'], bins=5, height=20, mark='x')"
   ]
  },
  {
   "cell_type": "code",
   "execution_count": 26,
   "metadata": {},
   "outputs": [
    {
     "data": {
      "text/plain": [
       "5    12977\n",
       "4     2554\n",
       "3      967\n",
       "2      372\n",
       "1      364\n",
       "Name: review, dtype: int64"
      ]
     },
     "execution_count": 26,
     "metadata": {},
     "output_type": "execute_result"
    }
   ],
   "source": [
    "df['review'].value_counts()"
   ]
  },
  {
   "cell_type": "code",
   "execution_count": 27,
   "metadata": {},
   "outputs": [
    {
     "data": {
      "text/plain": [
       "6.809166337416041"
      ]
     },
     "execution_count": 27,
     "metadata": {},
     "output_type": "execute_result"
    }
   ],
   "source": [
    "df.groupby('user')['item'].count().mean()"
   ]
  },
  {
   "cell_type": "markdown",
   "metadata": {},
   "source": [
    "### Sparsity"
   ]
  },
  {
   "cell_type": "code",
   "execution_count": 28,
   "metadata": {},
   "outputs": [
    {
     "data": {
      "text/html": [
       "<div>\n",
       "<style scoped>\n",
       "    .dataframe tbody tr th:only-of-type {\n",
       "        vertical-align: middle;\n",
       "    }\n",
       "\n",
       "    .dataframe tbody tr th {\n",
       "        vertical-align: top;\n",
       "    }\n",
       "\n",
       "    .dataframe thead th {\n",
       "        text-align: right;\n",
       "    }\n",
       "</style>\n",
       "<table border=\"1\" class=\"dataframe\">\n",
       "  <thead>\n",
       "    <tr style=\"text-align: right;\">\n",
       "      <th></th>\n",
       "      <th>item_1</th>\n",
       "      <th>item_2</th>\n",
       "      <th>item_3</th>\n",
       "      <th>item_4</th>\n",
       "      <th>item_5</th>\n",
       "      <th>item_6</th>\n",
       "    </tr>\n",
       "  </thead>\n",
       "  <tbody>\n",
       "    <tr>\n",
       "      <th>0</th>\n",
       "      <td>0</td>\n",
       "      <td>1</td>\n",
       "      <td>1</td>\n",
       "      <td>0</td>\n",
       "      <td>0</td>\n",
       "      <td>0</td>\n",
       "    </tr>\n",
       "    <tr>\n",
       "      <th>1</th>\n",
       "      <td>0</td>\n",
       "      <td>1</td>\n",
       "      <td>1</td>\n",
       "      <td>1</td>\n",
       "      <td>0</td>\n",
       "      <td>0</td>\n",
       "    </tr>\n",
       "    <tr>\n",
       "      <th>2</th>\n",
       "      <td>1</td>\n",
       "      <td>0</td>\n",
       "      <td>0</td>\n",
       "      <td>1</td>\n",
       "      <td>0</td>\n",
       "      <td>0</td>\n",
       "    </tr>\n",
       "    <tr>\n",
       "      <th>3</th>\n",
       "      <td>0</td>\n",
       "      <td>1</td>\n",
       "      <td>1</td>\n",
       "      <td>0</td>\n",
       "      <td>0</td>\n",
       "      <td>1</td>\n",
       "    </tr>\n",
       "    <tr>\n",
       "      <th>4</th>\n",
       "      <td>0</td>\n",
       "      <td>0</td>\n",
       "      <td>0</td>\n",
       "      <td>1</td>\n",
       "      <td>1</td>\n",
       "      <td>1</td>\n",
       "    </tr>\n",
       "  </tbody>\n",
       "</table>\n",
       "</div>"
      ],
      "text/plain": [
       "   item_1  item_2  item_3  item_4  item_5  item_6\n",
       "0       0       1       1       0       0       0\n",
       "1       0       1       1       1       0       0\n",
       "2       1       0       0       1       0       0\n",
       "3       0       1       1       0       0       1\n",
       "4       0       0       0       1       1       1"
      ]
     },
     "execution_count": 28,
     "metadata": {},
     "output_type": "execute_result"
    }
   ],
   "source": [
    "ex = pd.DataFrame([\n",
    "    [0, 1, 1, 0, 0, 0],\n",
    "    [0, 1, 1, 1, 0, 0],\n",
    "    [1, 0, 0, 1, 0, 0],\n",
    "    [0, 1, 1, 0, 0, 1],\n",
    "    [0, 0, 0, 1, 1, 1]], \n",
    "    columns=['item_1', 'item_2', 'item_3', 'item_4', 'item_5', 'item_6'])\n",
    "\n",
    "ex"
   ]
  },
  {
   "cell_type": "code",
   "execution_count": 29,
   "metadata": {},
   "outputs": [
    {
     "data": {
      "text/plain": [
       "0.43333333333333335"
      ]
     },
     "execution_count": 29,
     "metadata": {},
     "output_type": "execute_result"
    }
   ],
   "source": [
    "r, c = ex.shape\n",
    "ex.sum().sum() / (r * c)"
   ]
  },
  {
   "cell_type": "code",
   "execution_count": 30,
   "metadata": {},
   "outputs": [
    {
     "data": {
      "text/plain": [
       "344"
      ]
     },
     "execution_count": 30,
     "metadata": {},
     "output_type": "execute_result"
    }
   ],
   "source": [
    "import sys\n",
    "\n",
    "sys.getsizeof(ex)"
   ]
  },
  {
   "cell_type": "code",
   "execution_count": 31,
   "metadata": {},
   "outputs": [
    {
     "data": {
      "text/plain": [
       "array([[0, 1, 1, 0, 0, 0],\n",
       "       [0, 1, 1, 1, 0, 0],\n",
       "       [1, 0, 0, 1, 0, 0],\n",
       "       [0, 1, 1, 0, 0, 1],\n",
       "       [0, 0, 0, 1, 1, 1]])"
      ]
     },
     "execution_count": 31,
     "metadata": {},
     "output_type": "execute_result"
    }
   ],
   "source": [
    "ex.values"
   ]
  },
  {
   "cell_type": "code",
   "execution_count": 32,
   "metadata": {},
   "outputs": [],
   "source": [
    "from scipy.sparse import csc_matrix\n",
    "\n",
    "sx = csc_matrix(ex.values)"
   ]
  },
  {
   "cell_type": "code",
   "execution_count": 33,
   "metadata": {},
   "outputs": [
    {
     "data": {
      "text/plain": [
       "56"
      ]
     },
     "execution_count": 33,
     "metadata": {},
     "output_type": "execute_result"
    }
   ],
   "source": [
    "sys.getsizeof(sx)"
   ]
  },
  {
   "cell_type": "markdown",
   "metadata": {},
   "source": [
    "### Sparse Candy"
   ]
  },
  {
   "cell_type": "code",
   "execution_count": 34,
   "metadata": {},
   "outputs": [
    {
     "data": {
      "text/html": [
       "<div>\n",
       "<style scoped>\n",
       "    .dataframe tbody tr th:only-of-type {\n",
       "        vertical-align: middle;\n",
       "    }\n",
       "\n",
       "    .dataframe tbody tr th {\n",
       "        vertical-align: top;\n",
       "    }\n",
       "\n",
       "    .dataframe thead th {\n",
       "        text-align: right;\n",
       "    }\n",
       "</style>\n",
       "<table border=\"1\" class=\"dataframe\">\n",
       "  <thead>\n",
       "    <tr style=\"text-align: right;\">\n",
       "      <th></th>\n",
       "      <th>item</th>\n",
       "      <th>user</th>\n",
       "      <th>review</th>\n",
       "    </tr>\n",
       "  </thead>\n",
       "  <tbody>\n",
       "    <tr>\n",
       "      <th>2167</th>\n",
       "      <td>Skittles Sour Candy</td>\n",
       "      <td>berrybrian</td>\n",
       "      <td>4</td>\n",
       "    </tr>\n",
       "    <tr>\n",
       "      <th>14521</th>\n",
       "      <td>Hershey's Nuggets Milk Chocolate with Almonds</td>\n",
       "      <td>xschwartz</td>\n",
       "      <td>5</td>\n",
       "    </tr>\n",
       "    <tr>\n",
       "      <th>239</th>\n",
       "      <td>Twix</td>\n",
       "      <td>qlambert</td>\n",
       "      <td>4</td>\n",
       "    </tr>\n",
       "    <tr>\n",
       "      <th>4668</th>\n",
       "      <td>Pez Candy</td>\n",
       "      <td>qmedina</td>\n",
       "      <td>5</td>\n",
       "    </tr>\n",
       "    <tr>\n",
       "      <th>15220</th>\n",
       "      <td>Trident Gum</td>\n",
       "      <td>perezolivia</td>\n",
       "      <td>3</td>\n",
       "    </tr>\n",
       "  </tbody>\n",
       "</table>\n",
       "</div>"
      ],
      "text/plain": [
       "                                                item         user  review\n",
       "2167                             Skittles Sour Candy   berrybrian       4\n",
       "14521  Hershey's Nuggets Milk Chocolate with Almonds    xschwartz       5\n",
       "239                                             Twix     qlambert       4\n",
       "4668                                       Pez Candy      qmedina       5\n",
       "15220                                    Trident Gum  perezolivia       3"
      ]
     },
     "execution_count": 34,
     "metadata": {},
     "output_type": "execute_result"
    }
   ],
   "source": [
    "df.sample(5)"
   ]
  },
  {
   "cell_type": "code",
   "execution_count": 35,
   "metadata": {},
   "outputs": [],
   "source": [
    "import numpy as np"
   ]
  },
  {
   "cell_type": "code",
   "execution_count": 36,
   "metadata": {},
   "outputs": [],
   "source": [
    "ratings='review'\n",
    "users='user'\n",
    "items='item'\n",
    "\n",
    "ratings = np.array(df[ratings])\n",
    "users = np.array(df[users])\n",
    "items = np.array(df[items])"
   ]
  },
  {
   "cell_type": "code",
   "execution_count": 37,
   "metadata": {},
   "outputs": [
    {
     "name": "stdout",
     "output_type": "stream",
     "text": [
      "Help on class csr_matrix in module scipy.sparse.csr:\n",
      "\n",
      "class csr_matrix(scipy.sparse.compressed._cs_matrix, scipy.sparse.sputils.IndexMixin)\n",
      " |  csr_matrix(arg1, shape=None, dtype=None, copy=False)\n",
      " |  \n",
      " |  Compressed Sparse Row matrix\n",
      " |  \n",
      " |  This can be instantiated in several ways:\n",
      " |      csr_matrix(D)\n",
      " |          with a dense matrix or rank-2 ndarray D\n",
      " |  \n",
      " |      csr_matrix(S)\n",
      " |          with another sparse matrix S (equivalent to S.tocsr())\n",
      " |  \n",
      " |      csr_matrix((M, N), [dtype])\n",
      " |          to construct an empty matrix with shape (M, N)\n",
      " |          dtype is optional, defaulting to dtype='d'.\n",
      " |  \n",
      " |      csr_matrix((data, (row_ind, col_ind)), [shape=(M, N)])\n",
      " |          where ``data``, ``row_ind`` and ``col_ind`` satisfy the\n",
      " |          relationship ``a[row_ind[k], col_ind[k]] = data[k]``.\n",
      " |  \n",
      " |      csr_matrix((data, indices, indptr), [shape=(M, N)])\n",
      " |          is the standard CSR representation where the column indices for\n",
      " |          row i are stored in ``indices[indptr[i]:indptr[i+1]]`` and their\n",
      " |          corresponding values are stored in ``data[indptr[i]:indptr[i+1]]``.\n",
      " |          If the shape parameter is not supplied, the matrix dimensions\n",
      " |          are inferred from the index arrays.\n",
      " |  \n",
      " |  Attributes\n",
      " |  ----------\n",
      " |  dtype : dtype\n",
      " |      Data type of the matrix\n",
      " |  shape : 2-tuple\n",
      " |      Shape of the matrix\n",
      " |  ndim : int\n",
      " |      Number of dimensions (this is always 2)\n",
      " |  nnz\n",
      " |      Number of nonzero elements\n",
      " |  data\n",
      " |      CSR format data array of the matrix\n",
      " |  indices\n",
      " |      CSR format index array of the matrix\n",
      " |  indptr\n",
      " |      CSR format index pointer array of the matrix\n",
      " |  has_sorted_indices\n",
      " |      Whether indices are sorted\n",
      " |  \n",
      " |  Notes\n",
      " |  -----\n",
      " |  \n",
      " |  Sparse matrices can be used in arithmetic operations: they support\n",
      " |  addition, subtraction, multiplication, division, and matrix power.\n",
      " |  \n",
      " |  Advantages of the CSR format\n",
      " |    - efficient arithmetic operations CSR + CSR, CSR * CSR, etc.\n",
      " |    - efficient row slicing\n",
      " |    - fast matrix vector products\n",
      " |  \n",
      " |  Disadvantages of the CSR format\n",
      " |    - slow column slicing operations (consider CSC)\n",
      " |    - changes to the sparsity structure are expensive (consider LIL or DOK)\n",
      " |  \n",
      " |  Examples\n",
      " |  --------\n",
      " |  \n",
      " |  >>> import numpy as np\n",
      " |  >>> from scipy.sparse import csr_matrix\n",
      " |  >>> csr_matrix((3, 4), dtype=np.int8).toarray()\n",
      " |  array([[0, 0, 0, 0],\n",
      " |         [0, 0, 0, 0],\n",
      " |         [0, 0, 0, 0]], dtype=int8)\n",
      " |  \n",
      " |  >>> row = np.array([0, 0, 1, 2, 2, 2])\n",
      " |  >>> col = np.array([0, 2, 2, 0, 1, 2])\n",
      " |  >>> data = np.array([1, 2, 3, 4, 5, 6])\n",
      " |  >>> csr_matrix((data, (row, col)), shape=(3, 3)).toarray()\n",
      " |  array([[1, 0, 2],\n",
      " |         [0, 0, 3],\n",
      " |         [4, 5, 6]])\n",
      " |  \n",
      " |  >>> indptr = np.array([0, 2, 3, 6])\n",
      " |  >>> indices = np.array([0, 2, 2, 0, 1, 2])\n",
      " |  >>> data = np.array([1, 2, 3, 4, 5, 6])\n",
      " |  >>> csr_matrix((data, indices, indptr), shape=(3, 3)).toarray()\n",
      " |  array([[1, 0, 2],\n",
      " |         [0, 0, 3],\n",
      " |         [4, 5, 6]])\n",
      " |  \n",
      " |  As an example of how to construct a CSR matrix incrementally,\n",
      " |  the following snippet builds a term-document matrix from texts:\n",
      " |  \n",
      " |  >>> docs = [[\"hello\", \"world\", \"hello\"], [\"goodbye\", \"cruel\", \"world\"]]\n",
      " |  >>> indptr = [0]\n",
      " |  >>> indices = []\n",
      " |  >>> data = []\n",
      " |  >>> vocabulary = {}\n",
      " |  >>> for d in docs:\n",
      " |  ...     for term in d:\n",
      " |  ...         index = vocabulary.setdefault(term, len(vocabulary))\n",
      " |  ...         indices.append(index)\n",
      " |  ...         data.append(1)\n",
      " |  ...     indptr.append(len(indices))\n",
      " |  ...\n",
      " |  >>> csr_matrix((data, indices, indptr), dtype=int).toarray()\n",
      " |  array([[2, 1, 0, 0],\n",
      " |         [0, 1, 1, 1]])\n",
      " |  \n",
      " |  Method resolution order:\n",
      " |      csr_matrix\n",
      " |      scipy.sparse.compressed._cs_matrix\n",
      " |      scipy.sparse.data._data_matrix\n",
      " |      scipy.sparse.base.spmatrix\n",
      " |      scipy.sparse.data._minmax_mixin\n",
      " |      scipy.sparse.sputils.IndexMixin\n",
      " |      builtins.object\n",
      " |  \n",
      " |  Methods defined here:\n",
      " |  \n",
      " |  __getitem__(self, key)\n",
      " |  \n",
      " |  __iter__(self)\n",
      " |  \n",
      " |  getcol(self, i)\n",
      " |      Returns a copy of column i of the matrix, as a (m x 1)\n",
      " |      CSR matrix (column vector).\n",
      " |  \n",
      " |  getrow(self, i)\n",
      " |      Returns a copy of row i of the matrix, as a (1 x n)\n",
      " |      CSR matrix (row vector).\n",
      " |  \n",
      " |  tobsr(self, blocksize=None, copy=True)\n",
      " |      Convert this matrix to Block Sparse Row format.\n",
      " |      \n",
      " |      With copy=False, the data/indices may be shared between this matrix and\n",
      " |      the resultant bsr_matrix.\n",
      " |      \n",
      " |      When blocksize=(R, C) is provided, it will be used for construction of\n",
      " |      the bsr_matrix.\n",
      " |  \n",
      " |  tocsc(self, copy=False)\n",
      " |      Convert this matrix to Compressed Sparse Column format.\n",
      " |      \n",
      " |      With copy=False, the data/indices may be shared between this matrix and\n",
      " |      the resultant csc_matrix.\n",
      " |  \n",
      " |  tocsr(self, copy=False)\n",
      " |      Convert this matrix to Compressed Sparse Row format.\n",
      " |      \n",
      " |      With copy=False, the data/indices may be shared between this matrix and\n",
      " |      the resultant csr_matrix.\n",
      " |  \n",
      " |  tolil(self, copy=False)\n",
      " |      Convert this matrix to LInked List format.\n",
      " |      \n",
      " |      With copy=False, the data/indices may be shared between this matrix and\n",
      " |      the resultant lil_matrix.\n",
      " |  \n",
      " |  transpose(self, axes=None, copy=False)\n",
      " |      Reverses the dimensions of the sparse matrix.\n",
      " |      \n",
      " |      Parameters\n",
      " |      ----------\n",
      " |      axes : None, optional\n",
      " |          This argument is in the signature *solely* for NumPy\n",
      " |          compatibility reasons. Do not pass in anything except\n",
      " |          for the default value.\n",
      " |      copy : bool, optional\n",
      " |          Indicates whether or not attributes of `self` should be\n",
      " |          copied whenever possible. The degree to which attributes\n",
      " |          are copied varies depending on the type of sparse matrix\n",
      " |          being used.\n",
      " |      \n",
      " |      Returns\n",
      " |      -------\n",
      " |      p : `self` with the dimensions reversed.\n",
      " |      \n",
      " |      See Also\n",
      " |      --------\n",
      " |      np.matrix.transpose : NumPy's implementation of 'transpose'\n",
      " |                            for matrices\n",
      " |  \n",
      " |  ----------------------------------------------------------------------\n",
      " |  Data and other attributes defined here:\n",
      " |  \n",
      " |  format = 'csr'\n",
      " |  \n",
      " |  ----------------------------------------------------------------------\n",
      " |  Methods inherited from scipy.sparse.compressed._cs_matrix:\n",
      " |  \n",
      " |  __eq__(self, other)\n",
      " |      Return self==value.\n",
      " |  \n",
      " |  __ge__(self, other)\n",
      " |      Return self>=value.\n",
      " |  \n",
      " |  __gt__(self, other)\n",
      " |      Return self>value.\n",
      " |  \n",
      " |  __init__(self, arg1, shape=None, dtype=None, copy=False)\n",
      " |      Initialize self.  See help(type(self)) for accurate signature.\n",
      " |  \n",
      " |  __le__(self, other)\n",
      " |      Return self<=value.\n",
      " |  \n",
      " |  __lt__(self, other)\n",
      " |      Return self<value.\n",
      " |  \n",
      " |  __ne__(self, other)\n",
      " |      Return self!=value.\n",
      " |  \n",
      " |  __setitem__(self, index, x)\n",
      " |  \n",
      " |  check_format(self, full_check=True)\n",
      " |      check whether the matrix format is valid\n",
      " |      \n",
      " |      Parameters\n",
      " |      ----------\n",
      " |      full_check : bool, optional\n",
      " |          If `True`, rigorous check, O(N) operations. Otherwise\n",
      " |          basic check, O(1) operations (default True).\n",
      " |  \n",
      " |  diagonal(self, k=0)\n",
      " |      Returns the k-th diagonal of the matrix.\n",
      " |      \n",
      " |      Parameters\n",
      " |      ----------\n",
      " |      k : int, optional\n",
      " |          Which diagonal to set, corresponding to elements a[i, i+k].\n",
      " |          Default: 0 (the main diagonal).\n",
      " |      \n",
      " |          .. versionadded:: 1.0\n",
      " |      \n",
      " |      See also\n",
      " |      --------\n",
      " |      numpy.diagonal : Equivalent numpy function.\n",
      " |      \n",
      " |      Examples\n",
      " |      --------\n",
      " |      >>> from scipy.sparse import csr_matrix\n",
      " |      >>> A = csr_matrix([[1, 2, 0], [0, 0, 3], [4, 0, 5]])\n",
      " |      >>> A.diagonal()\n",
      " |      array([1, 0, 5])\n",
      " |      >>> A.diagonal(k=1)\n",
      " |      array([2, 3])\n",
      " |  \n",
      " |  eliminate_zeros(self)\n",
      " |      Remove zero entries from the matrix\n",
      " |      \n",
      " |      This is an *in place* operation\n",
      " |  \n",
      " |  getnnz(self, axis=None)\n",
      " |      Number of stored values, including explicit zeros.\n",
      " |      \n",
      " |      Parameters\n",
      " |      ----------\n",
      " |      axis : None, 0, or 1\n",
      " |          Select between the number of values across the whole matrix, in\n",
      " |          each column, or in each row.\n",
      " |      \n",
      " |      See also\n",
      " |      --------\n",
      " |      count_nonzero : Number of non-zero entries\n",
      " |  \n",
      " |  maximum(self, other)\n",
      " |      Element-wise maximum between this and another matrix.\n",
      " |  \n",
      " |  minimum(self, other)\n",
      " |      Element-wise minimum between this and another matrix.\n",
      " |  \n",
      " |  multiply(self, other)\n",
      " |      Point-wise multiplication by another matrix, vector, or\n",
      " |      scalar.\n",
      " |  \n",
      " |  prune(self)\n",
      " |      Remove empty space after all non-zero elements.\n",
      " |  \n",
      " |  resize(self, *shape)\n",
      " |      Resize the matrix in-place to dimensions given by ``shape``\n",
      " |      \n",
      " |      Any elements that lie within the new shape will remain at the same\n",
      " |      indices, while non-zero elements lying outside the new shape are\n",
      " |      removed.\n",
      " |      \n",
      " |      Parameters\n",
      " |      ----------\n",
      " |      shape : (int, int)\n",
      " |          number of rows and columns in the new matrix\n",
      " |      \n",
      " |      Notes\n",
      " |      -----\n",
      " |      The semantics are not identical to `numpy.ndarray.resize` or\n",
      " |      `numpy.resize`.  Here, the same data will be maintained at each index\n",
      " |      before and after reshape, if that index is within the new bounds.  In\n",
      " |      numpy, resizing maintains contiguity of the array, moving elements\n",
      " |      around in the logical matrix but not within a flattened representation.\n",
      " |      \n",
      " |      We give no guarantees about whether the underlying data attributes\n",
      " |      (arrays, etc.) will be modified in place or replaced with new objects.\n",
      " |  \n",
      " |  sort_indices(self)\n",
      " |      Sort the indices of this matrix *in place*\n",
      " |  \n",
      " |  sorted_indices(self)\n",
      " |      Return a copy of this matrix with sorted indices\n",
      " |  \n",
      " |  sum(self, axis=None, dtype=None, out=None)\n",
      " |      Sum the matrix elements over a given axis.\n",
      " |      \n",
      " |      Parameters\n",
      " |      ----------\n",
      " |      axis : {-2, -1, 0, 1, None} optional\n",
      " |          Axis along which the sum is computed. The default is to\n",
      " |          compute the sum of all the matrix elements, returning a scalar\n",
      " |          (i.e. `axis` = `None`).\n",
      " |      dtype : dtype, optional\n",
      " |          The type of the returned matrix and of the accumulator in which\n",
      " |          the elements are summed.  The dtype of `a` is used by default\n",
      " |          unless `a` has an integer dtype of less precision than the default\n",
      " |          platform integer.  In that case, if `a` is signed then the platform\n",
      " |          integer is used while if `a` is unsigned then an unsigned integer\n",
      " |          of the same precision as the platform integer is used.\n",
      " |      \n",
      " |          .. versionadded:: 0.18.0\n",
      " |      \n",
      " |      out : np.matrix, optional\n",
      " |          Alternative output matrix in which to place the result. It must\n",
      " |          have the same shape as the expected output, but the type of the\n",
      " |          output values will be cast if necessary.\n",
      " |      \n",
      " |          .. versionadded:: 0.18.0\n",
      " |      \n",
      " |      Returns\n",
      " |      -------\n",
      " |      sum_along_axis : np.matrix\n",
      " |          A matrix with the same shape as `self`, with the specified\n",
      " |          axis removed.\n",
      " |      \n",
      " |      See Also\n",
      " |      --------\n",
      " |      np.matrix.sum : NumPy's implementation of 'sum' for matrices\n",
      " |  \n",
      " |  sum_duplicates(self)\n",
      " |      Eliminate duplicate matrix entries by adding them together\n",
      " |      \n",
      " |      The is an *in place* operation\n",
      " |  \n",
      " |  toarray(self, order=None, out=None)\n",
      " |      Return a dense ndarray representation of this matrix.\n",
      " |      \n",
      " |      Parameters\n",
      " |      ----------\n",
      " |      order : {'C', 'F'}, optional\n",
      " |          Whether to store multi-dimensional data in C (row-major)\n",
      " |          or Fortran (column-major) order in memory. The default\n",
      " |          is 'None', indicating the NumPy default of C-ordered.\n",
      " |          Cannot be specified in conjunction with the `out`\n",
      " |          argument.\n",
      " |      \n",
      " |      out : ndarray, 2-dimensional, optional\n",
      " |          If specified, uses this array as the output buffer\n",
      " |          instead of allocating a new array to return. The provided\n",
      " |          array must have the same shape and dtype as the sparse\n",
      " |          matrix on which you are calling the method. For most\n",
      " |          sparse types, `out` is required to be memory contiguous\n",
      " |          (either C or Fortran ordered).\n",
      " |      \n",
      " |      Returns\n",
      " |      -------\n",
      " |      arr : ndarray, 2-dimensional\n",
      " |          An array with the same shape and containing the same\n",
      " |          data represented by the sparse matrix, with the requested\n",
      " |          memory order. If `out` was passed, the same object is\n",
      " |          returned after being modified in-place to contain the\n",
      " |          appropriate values.\n",
      " |  \n",
      " |  tocoo(self, copy=True)\n",
      " |      Convert this matrix to COOrdinate format.\n",
      " |      \n",
      " |      With copy=False, the data/indices may be shared between this matrix and\n",
      " |      the resultant coo_matrix.\n",
      " |  \n",
      " |  ----------------------------------------------------------------------\n",
      " |  Data descriptors inherited from scipy.sparse.compressed._cs_matrix:\n",
      " |  \n",
      " |  has_canonical_format\n",
      " |      Determine whether the matrix has sorted indices and no duplicates\n",
      " |      \n",
      " |      Returns\n",
      " |          - True: if the above applies\n",
      " |          - False: otherwise\n",
      " |      \n",
      " |      has_canonical_format implies has_sorted_indices, so if the latter flag\n",
      " |      is False, so will the former be; if the former is found True, the\n",
      " |      latter flag is also set.\n",
      " |  \n",
      " |  has_sorted_indices\n",
      " |      Determine whether the matrix has sorted indices\n",
      " |      \n",
      " |      Returns\n",
      " |          - True: if the indices of the matrix are in sorted order\n",
      " |          - False: otherwise\n",
      " |  \n",
      " |  ----------------------------------------------------------------------\n",
      " |  Data and other attributes inherited from scipy.sparse.compressed._cs_matrix:\n",
      " |  \n",
      " |  __hash__ = None\n",
      " |  \n",
      " |  ----------------------------------------------------------------------\n",
      " |  Methods inherited from scipy.sparse.data._data_matrix:\n",
      " |  \n",
      " |  __abs__(self)\n",
      " |  \n",
      " |  __imul__(self, other)\n",
      " |  \n",
      " |  __itruediv__(self, other)\n",
      " |  \n",
      " |  __neg__(self)\n",
      " |  \n",
      " |  arcsin(self)\n",
      " |      Element-wise arcsin.\n",
      " |      \n",
      " |      See numpy.arcsin for more information.\n",
      " |  \n",
      " |  arcsinh(self)\n",
      " |      Element-wise arcsinh.\n",
      " |      \n",
      " |      See numpy.arcsinh for more information.\n",
      " |  \n",
      " |  arctan(self)\n",
      " |      Element-wise arctan.\n",
      " |      \n",
      " |      See numpy.arctan for more information.\n",
      " |  \n",
      " |  arctanh(self)\n",
      " |      Element-wise arctanh.\n",
      " |      \n",
      " |      See numpy.arctanh for more information.\n",
      " |  \n",
      " |  astype(self, dtype, casting='unsafe', copy=True)\n",
      " |      Cast the matrix elements to a specified type.\n",
      " |      \n",
      " |      Parameters\n",
      " |      ----------\n",
      " |      dtype : string or numpy dtype\n",
      " |          Typecode or data-type to which to cast the data.\n",
      " |      casting : {'no', 'equiv', 'safe', 'same_kind', 'unsafe'}, optional\n",
      " |          Controls what kind of data casting may occur.\n",
      " |          Defaults to 'unsafe' for backwards compatibility.\n",
      " |          'no' means the data types should not be cast at all.\n",
      " |          'equiv' means only byte-order changes are allowed.\n",
      " |          'safe' means only casts which can preserve values are allowed.\n",
      " |          'same_kind' means only safe casts or casts within a kind,\n",
      " |          like float64 to float32, are allowed.\n",
      " |          'unsafe' means any data conversions may be done.\n",
      " |      copy : bool, optional\n",
      " |          If `copy` is `False`, the result might share some memory with this\n",
      " |          matrix. If `copy` is `True`, it is guaranteed that the result and\n",
      " |          this matrix do not share any memory.\n",
      " |  \n",
      " |  ceil(self)\n",
      " |      Element-wise ceil.\n",
      " |      \n",
      " |      See numpy.ceil for more information.\n",
      " |  \n",
      " |  conj(self, copy=True)\n",
      " |      Element-wise complex conjugation.\n",
      " |      \n",
      " |      If the matrix is of non-complex data type and `copy` is False,\n",
      " |      this method does nothing and the data is not copied.\n",
      " |      \n",
      " |      Parameters\n",
      " |      ----------\n",
      " |      copy : bool, optional\n",
      " |          If True, the result is guaranteed to not share data with self.\n",
      " |      \n",
      " |      Returns\n",
      " |      -------\n",
      " |      A : The element-wise complex conjugate.\n",
      " |  \n",
      " |  copy(self)\n",
      " |      Returns a copy of this matrix.\n",
      " |      \n",
      " |      No data/indices will be shared between the returned value and current\n",
      " |      matrix.\n",
      " |  \n",
      " |  count_nonzero(self)\n",
      " |      Number of non-zero entries, equivalent to\n",
      " |      \n",
      " |      np.count_nonzero(a.toarray())\n",
      " |      \n",
      " |      Unlike getnnz() and the nnz property, which return the number of stored\n",
      " |      entries (the length of the data attribute), this method counts the\n",
      " |      actual number of non-zero entries in data.\n",
      " |  \n",
      " |  deg2rad(self)\n",
      " |      Element-wise deg2rad.\n",
      " |      \n",
      " |      See numpy.deg2rad for more information.\n",
      " |  \n",
      " |  expm1(self)\n",
      " |      Element-wise expm1.\n",
      " |      \n",
      " |      See numpy.expm1 for more information.\n",
      " |  \n",
      " |  floor(self)\n",
      " |      Element-wise floor.\n",
      " |      \n",
      " |      See numpy.floor for more information.\n",
      " |  \n",
      " |  log1p(self)\n",
      " |      Element-wise log1p.\n",
      " |      \n",
      " |      See numpy.log1p for more information.\n",
      " |  \n",
      " |  power(self, n, dtype=None)\n",
      " |      This function performs element-wise power.\n",
      " |      \n",
      " |      Parameters\n",
      " |      ----------\n",
      " |      n : n is a scalar\n",
      " |      \n",
      " |      dtype : If dtype is not specified, the current dtype will be preserved.\n",
      " |  \n",
      " |  rad2deg(self)\n",
      " |      Element-wise rad2deg.\n",
      " |      \n",
      " |      See numpy.rad2deg for more information.\n",
      " |  \n",
      " |  rint(self)\n",
      " |      Element-wise rint.\n",
      " |      \n",
      " |      See numpy.rint for more information.\n",
      " |  \n",
      " |  sign(self)\n",
      " |      Element-wise sign.\n",
      " |      \n",
      " |      See numpy.sign for more information.\n",
      " |  \n",
      " |  sin(self)\n",
      " |      Element-wise sin.\n",
      " |      \n",
      " |      See numpy.sin for more information.\n",
      " |  \n",
      " |  sinh(self)\n",
      " |      Element-wise sinh.\n",
      " |      \n",
      " |      See numpy.sinh for more information.\n",
      " |  \n",
      " |  sqrt(self)\n",
      " |      Element-wise sqrt.\n",
      " |      \n",
      " |      See numpy.sqrt for more information.\n",
      " |  \n",
      " |  tan(self)\n",
      " |      Element-wise tan.\n",
      " |      \n",
      " |      See numpy.tan for more information.\n",
      " |  \n",
      " |  tanh(self)\n",
      " |      Element-wise tanh.\n",
      " |      \n",
      " |      See numpy.tanh for more information.\n",
      " |  \n",
      " |  trunc(self)\n",
      " |      Element-wise trunc.\n",
      " |      \n",
      " |      See numpy.trunc for more information.\n",
      " |  \n",
      " |  ----------------------------------------------------------------------\n",
      " |  Data descriptors inherited from scipy.sparse.data._data_matrix:\n",
      " |  \n",
      " |  dtype\n",
      " |  \n",
      " |  ----------------------------------------------------------------------\n",
      " |  Methods inherited from scipy.sparse.base.spmatrix:\n",
      " |  \n",
      " |  __add__(self, other)\n",
      " |  \n",
      " |  __bool__(self)\n",
      " |  \n",
      " |  __div__(self, other)\n",
      " |  \n",
      " |  __getattr__(self, attr)\n",
      " |  \n",
      " |  __iadd__(self, other)\n",
      " |  \n",
      " |  __idiv__(self, other)\n",
      " |  \n",
      " |  __isub__(self, other)\n",
      " |  \n",
      " |  __len__(self)\n",
      " |      # What should len(sparse) return? For consistency with dense matrices,\n",
      " |      # perhaps it should be the number of rows?  But for some uses the number of\n",
      " |      # non-zeros is more important.  For now, raise an exception!\n",
      " |  \n",
      " |  __matmul__(self, other)\n",
      " |  \n",
      " |  __mul__(self, other)\n",
      " |      interpret other and call one of the following\n",
      " |      \n",
      " |      self._mul_scalar()\n",
      " |      self._mul_vector()\n",
      " |      self._mul_multivector()\n",
      " |      self._mul_sparse_matrix()\n",
      " |  \n",
      " |  __nonzero__ = __bool__(self)\n",
      " |  \n",
      " |  __pow__(self, other)\n",
      " |  \n",
      " |  __radd__(self, other)\n",
      " |  \n",
      " |  __rdiv__(self, other)\n",
      " |  \n",
      " |  __repr__(self)\n",
      " |      Return repr(self).\n",
      " |  \n",
      " |  __rmatmul__(self, other)\n",
      " |  \n",
      " |  __rmul__(self, other)\n",
      " |  \n",
      " |  __rsub__(self, other)\n",
      " |  \n",
      " |  __rtruediv__(self, other)\n",
      " |  \n",
      " |  __str__(self)\n",
      " |      Return str(self).\n",
      " |  \n",
      " |  __sub__(self, other)\n",
      " |  \n",
      " |  __truediv__(self, other)\n",
      " |  \n",
      " |  asformat(self, format, copy=False)\n",
      " |      Return this matrix in the passed format.\n",
      " |      \n",
      " |      Parameters\n",
      " |      ----------\n",
      " |      format : {str, None}\n",
      " |          The desired matrix format (\"csr\", \"csc\", \"lil\", \"dok\", \"array\", ...)\n",
      " |          or None for no conversion.\n",
      " |      copy : bool, optional\n",
      " |          If True, the result is guaranteed to not share data with self.\n",
      " |      \n",
      " |      Returns\n",
      " |      -------\n",
      " |      A : This matrix in the passed format.\n",
      " |  \n",
      " |  asfptype(self)\n",
      " |      Upcast matrix to a floating point format (if necessary)\n",
      " |  \n",
      " |  conjugate(self, copy=True)\n",
      " |      Element-wise complex conjugation.\n",
      " |      \n",
      " |      If the matrix is of non-complex data type and `copy` is False,\n",
      " |      this method does nothing and the data is not copied.\n",
      " |      \n",
      " |      Parameters\n",
      " |      ----------\n",
      " |      copy : bool, optional\n",
      " |          If True, the result is guaranteed to not share data with self.\n",
      " |      \n",
      " |      Returns\n",
      " |      -------\n",
      " |      A : The element-wise complex conjugate.\n",
      " |  \n",
      " |  dot(self, other)\n",
      " |      Ordinary dot product\n",
      " |      \n",
      " |      Examples\n",
      " |      --------\n",
      " |      >>> import numpy as np\n",
      " |      >>> from scipy.sparse import csr_matrix\n",
      " |      >>> A = csr_matrix([[1, 2, 0], [0, 0, 3], [4, 0, 5]])\n",
      " |      >>> v = np.array([1, 0, -1])\n",
      " |      >>> A.dot(v)\n",
      " |      array([ 1, -3, -1], dtype=int64)\n",
      " |  \n",
      " |  getH(self)\n",
      " |      Return the Hermitian transpose of this matrix.\n",
      " |      \n",
      " |      See Also\n",
      " |      --------\n",
      " |      np.matrix.getH : NumPy's implementation of `getH` for matrices\n",
      " |  \n",
      " |  get_shape(self)\n",
      " |      Get shape of a matrix.\n",
      " |  \n",
      " |  getformat(self)\n",
      " |      Format of a matrix representation as a string.\n",
      " |  \n",
      " |  getmaxprint(self)\n",
      " |      Maximum number of elements to display when printed.\n",
      " |  \n",
      " |  mean(self, axis=None, dtype=None, out=None)\n",
      " |      Compute the arithmetic mean along the specified axis.\n",
      " |      \n",
      " |      Returns the average of the matrix elements. The average is taken\n",
      " |      over all elements in the matrix by default, otherwise over the\n",
      " |      specified axis. `float64` intermediate and return values are used\n",
      " |      for integer inputs.\n",
      " |      \n",
      " |      Parameters\n",
      " |      ----------\n",
      " |      axis : {-2, -1, 0, 1, None} optional\n",
      " |          Axis along which the mean is computed. The default is to compute\n",
      " |          the mean of all elements in the matrix (i.e. `axis` = `None`).\n",
      " |      dtype : data-type, optional\n",
      " |          Type to use in computing the mean. For integer inputs, the default\n",
      " |          is `float64`; for floating point inputs, it is the same as the\n",
      " |          input dtype.\n",
      " |      \n",
      " |          .. versionadded:: 0.18.0\n",
      " |      \n",
      " |      out : np.matrix, optional\n",
      " |          Alternative output matrix in which to place the result. It must\n",
      " |          have the same shape as the expected output, but the type of the\n",
      " |          output values will be cast if necessary.\n",
      " |      \n",
      " |          .. versionadded:: 0.18.0\n",
      " |      \n",
      " |      Returns\n",
      " |      -------\n",
      " |      m : np.matrix\n",
      " |      \n",
      " |      See Also\n",
      " |      --------\n",
      " |      np.matrix.mean : NumPy's implementation of 'mean' for matrices\n",
      " |  \n",
      " |  nonzero(self)\n",
      " |      nonzero indices\n",
      " |      \n",
      " |      Returns a tuple of arrays (row,col) containing the indices\n",
      " |      of the non-zero elements of the matrix.\n",
      " |      \n",
      " |      Examples\n",
      " |      --------\n",
      " |      >>> from scipy.sparse import csr_matrix\n",
      " |      >>> A = csr_matrix([[1,2,0],[0,0,3],[4,0,5]])\n",
      " |      >>> A.nonzero()\n",
      " |      (array([0, 0, 1, 2, 2]), array([0, 1, 2, 0, 2]))\n",
      " |  \n",
      " |  reshape(self, *args, **kwargs)\n",
      " |      reshape(self, shape, order='C', copy=False)\n",
      " |      \n",
      " |      Gives a new shape to a sparse matrix without changing its data.\n",
      " |      \n",
      " |      Parameters\n",
      " |      ----------\n",
      " |      shape : length-2 tuple of ints\n",
      " |          The new shape should be compatible with the original shape.\n",
      " |      order : {'C', 'F'}, optional\n",
      " |          Read the elements using this index order. 'C' means to read and\n",
      " |          write the elements using C-like index order; e.g. read entire first\n",
      " |          row, then second row, etc. 'F' means to read and write the elements\n",
      " |          using Fortran-like index order; e.g. read entire first column, then\n",
      " |          second column, etc.\n",
      " |      copy : bool, optional\n",
      " |          Indicates whether or not attributes of self should be copied\n",
      " |          whenever possible. The degree to which attributes are copied varies\n",
      " |          depending on the type of sparse matrix being used.\n",
      " |      \n",
      " |      Returns\n",
      " |      -------\n",
      " |      reshaped_matrix : sparse matrix\n",
      " |          A sparse matrix with the given `shape`, not necessarily of the same\n",
      " |          format as the current object.\n",
      " |      \n",
      " |      See Also\n",
      " |      --------\n",
      " |      np.matrix.reshape : NumPy's implementation of 'reshape' for matrices\n",
      " |  \n",
      " |  set_shape(self, shape)\n",
      " |      See `reshape`.\n",
      " |  \n",
      " |  setdiag(self, values, k=0)\n",
      " |      Set diagonal or off-diagonal elements of the array.\n",
      " |      \n",
      " |      Parameters\n",
      " |      ----------\n",
      " |      values : array_like\n",
      " |          New values of the diagonal elements.\n",
      " |      \n",
      " |          Values may have any length.  If the diagonal is longer than values,\n",
      " |          then the remaining diagonal entries will not be set.  If values if\n",
      " |          longer than the diagonal, then the remaining values are ignored.\n",
      " |      \n",
      " |          If a scalar value is given, all of the diagonal is set to it.\n",
      " |      \n",
      " |      k : int, optional\n",
      " |          Which off-diagonal to set, corresponding to elements a[i,i+k].\n",
      " |          Default: 0 (the main diagonal).\n",
      " |  \n",
      " |  todense(self, order=None, out=None)\n",
      " |      Return a dense matrix representation of this matrix.\n",
      " |      \n",
      " |      Parameters\n",
      " |      ----------\n",
      " |      order : {'C', 'F'}, optional\n",
      " |          Whether to store multi-dimensional data in C (row-major)\n",
      " |          or Fortran (column-major) order in memory. The default\n",
      " |          is 'None', indicating the NumPy default of C-ordered.\n",
      " |          Cannot be specified in conjunction with the `out`\n",
      " |          argument.\n",
      " |      \n",
      " |      out : ndarray, 2-dimensional, optional\n",
      " |          If specified, uses this array (or `numpy.matrix`) as the\n",
      " |          output buffer instead of allocating a new array to\n",
      " |          return. The provided array must have the same shape and\n",
      " |          dtype as the sparse matrix on which you are calling the\n",
      " |          method.\n",
      " |      \n",
      " |      Returns\n",
      " |      -------\n",
      " |      arr : numpy.matrix, 2-dimensional\n",
      " |          A NumPy matrix object with the same shape and containing\n",
      " |          the same data represented by the sparse matrix, with the\n",
      " |          requested memory order. If `out` was passed and was an\n",
      " |          array (rather than a `numpy.matrix`), it will be filled\n",
      " |          with the appropriate values and returned wrapped in a\n",
      " |          `numpy.matrix` object that shares the same memory.\n",
      " |  \n",
      " |  todia(self, copy=False)\n",
      " |      Convert this matrix to sparse DIAgonal format.\n",
      " |      \n",
      " |      With copy=False, the data/indices may be shared between this matrix and\n",
      " |      the resultant dia_matrix.\n",
      " |  \n",
      " |  todok(self, copy=False)\n",
      " |      Convert this matrix to Dictionary Of Keys format.\n",
      " |      \n",
      " |      With copy=False, the data/indices may be shared between this matrix and\n",
      " |      the resultant dok_matrix.\n",
      " |  \n",
      " |  ----------------------------------------------------------------------\n",
      " |  Data descriptors inherited from scipy.sparse.base.spmatrix:\n",
      " |  \n",
      " |  __dict__\n",
      " |      dictionary for instance variables (if defined)\n",
      " |  \n",
      " |  __weakref__\n",
      " |      list of weak references to the object (if defined)\n",
      " |  \n",
      " |  nnz\n",
      " |      Number of stored values, including explicit zeros.\n",
      " |      \n",
      " |      See also\n",
      " |      --------\n",
      " |      count_nonzero : Number of non-zero entries\n",
      " |  \n",
      " |  shape\n",
      " |      Get shape of a matrix.\n",
      " |  \n",
      " |  ----------------------------------------------------------------------\n",
      " |  Data and other attributes inherited from scipy.sparse.base.spmatrix:\n",
      " |  \n",
      " |  __array_priority__ = 10.1\n",
      " |  \n",
      " |  ndim = 2\n",
      " |  \n",
      " |  ----------------------------------------------------------------------\n",
      " |  Methods inherited from scipy.sparse.data._minmax_mixin:\n",
      " |  \n",
      " |  argmax(self, axis=None, out=None)\n",
      " |      Return indices of maximum elements along an axis.\n",
      " |      \n",
      " |      Implicit zero elements are also taken into account. If there are\n",
      " |      several maximum values, the index of the first occurrence is returned.\n",
      " |      \n",
      " |      Parameters\n",
      " |      ----------\n",
      " |      axis : {-2, -1, 0, 1, None}, optional\n",
      " |          Axis along which the argmax is computed. If None (default), index\n",
      " |          of the maximum element in the flatten data is returned.\n",
      " |      out : None, optional\n",
      " |          This argument is in the signature *solely* for NumPy\n",
      " |          compatibility reasons. Do not pass in anything except for\n",
      " |          the default value, as this argument is not used.\n",
      " |      \n",
      " |      Returns\n",
      " |      -------\n",
      " |      ind : np.matrix or int\n",
      " |          Indices of maximum elements. If matrix, its size along `axis` is 1.\n",
      " |  \n",
      " |  argmin(self, axis=None, out=None)\n",
      " |      Return indices of minimum elements along an axis.\n",
      " |      \n",
      " |      Implicit zero elements are also taken into account. If there are\n",
      " |      several minimum values, the index of the first occurrence is returned.\n",
      " |      \n",
      " |      Parameters\n",
      " |      ----------\n",
      " |      axis : {-2, -1, 0, 1, None}, optional\n",
      " |          Axis along which the argmin is computed. If None (default), index\n",
      " |          of the minimum element in the flatten data is returned.\n",
      " |      out : None, optional\n",
      " |          This argument is in the signature *solely* for NumPy\n",
      " |          compatibility reasons. Do not pass in anything except for\n",
      " |          the default value, as this argument is not used.\n",
      " |      \n",
      " |      Returns\n",
      " |      -------\n",
      " |       ind : np.matrix or int\n",
      " |          Indices of minimum elements. If matrix, its size along `axis` is 1.\n",
      " |  \n",
      " |  max(self, axis=None, out=None)\n",
      " |      Return the maximum of the matrix or maximum along an axis.\n",
      " |      This takes all elements into account, not just the non-zero ones.\n",
      " |      \n",
      " |      Parameters\n",
      " |      ----------\n",
      " |      axis : {-2, -1, 0, 1, None} optional\n",
      " |          Axis along which the sum is computed. The default is to\n",
      " |          compute the maximum over all the matrix elements, returning\n",
      " |          a scalar (i.e. `axis` = `None`).\n",
      " |      \n",
      " |      out : None, optional\n",
      " |          This argument is in the signature *solely* for NumPy\n",
      " |          compatibility reasons. Do not pass in anything except\n",
      " |          for the default value, as this argument is not used.\n",
      " |      \n",
      " |      Returns\n",
      " |      -------\n",
      " |      amax : coo_matrix or scalar\n",
      " |          Maximum of `a`. If `axis` is None, the result is a scalar value.\n",
      " |          If `axis` is given, the result is a sparse.coo_matrix of dimension\n",
      " |          ``a.ndim - 1``.\n",
      " |      \n",
      " |      See Also\n",
      " |      --------\n",
      " |      min : The minimum value of a sparse matrix along a given axis.\n",
      " |      np.matrix.max : NumPy's implementation of 'max' for matrices\n",
      " |  \n",
      " |  min(self, axis=None, out=None)\n",
      " |      Return the minimum of the matrix or maximum along an axis.\n",
      " |      This takes all elements into account, not just the non-zero ones.\n",
      " |      \n",
      " |      Parameters\n",
      " |      ----------\n",
      " |      axis : {-2, -1, 0, 1, None} optional\n",
      " |          Axis along which the sum is computed. The default is to\n",
      " |          compute the minimum over all the matrix elements, returning\n",
      " |          a scalar (i.e. `axis` = `None`).\n",
      " |      \n",
      " |      out : None, optional\n",
      " |          This argument is in the signature *solely* for NumPy\n",
      " |          compatibility reasons. Do not pass in anything except for\n",
      " |          the default value, as this argument is not used.\n",
      " |      \n",
      " |      Returns\n",
      " |      -------\n",
      " |      amin : coo_matrix or scalar\n",
      " |          Minimum of `a`. If `axis` is None, the result is a scalar value.\n",
      " |          If `axis` is given, the result is a sparse.coo_matrix of dimension\n",
      " |          ``a.ndim - 1``.\n",
      " |      \n",
      " |      See Also\n",
      " |      --------\n",
      " |      max : The maximum value of a sparse matrix along a given axis.\n",
      " |      np.matrix.min : NumPy's implementation of 'min' for matrices\n",
      "\n"
     ]
    }
   ],
   "source": [
    "from scipy.sparse import csr_matrix\n",
    "\n",
    "help(csr_matrix)"
   ]
  },
  {
   "cell_type": "code",
   "execution_count": 38,
   "metadata": {},
   "outputs": [
    {
     "data": {
      "text/plain": [
       "array([[1, 0, 2],\n",
       "       [0, 0, 3],\n",
       "       [4, 5, 6]], dtype=int64)"
      ]
     },
     "execution_count": 38,
     "metadata": {},
     "output_type": "execute_result"
    }
   ],
   "source": [
    "row = np.array([0, 0, 1, 2, 2, 2])\n",
    "col = np.array([0, 2, 2, 0, 1, 2])\n",
    "data = np.array([1, 2, 3, 4, 5, 6])\n",
    "\n",
    "csr_matrix((data, (row, col)), shape=(3, 3)).toarray()"
   ]
  },
  {
   "cell_type": "code",
   "execution_count": 39,
   "metadata": {},
   "outputs": [],
   "source": [
    "from sklearn.preprocessing import LabelEncoder\n",
    "\n",
    "# heavy lifting encoders\n",
    "user_encoder = LabelEncoder()\n",
    "item_encoder = LabelEncoder()\n",
    "\n",
    "# preparation for the csr matrix\n",
    "u = user_encoder.fit_transform(users)\n",
    "i = item_encoder.fit_transform(items)\n",
    "lu = len(np.unique(u))\n",
    "li = len(np.unique(i))"
   ]
  },
  {
   "cell_type": "code",
   "execution_count": 40,
   "metadata": {},
   "outputs": [],
   "source": [
    "interactions = csr_matrix((ratings, (u, i)), shape=(lu, li))"
   ]
  },
  {
   "cell_type": "markdown",
   "metadata": {},
   "source": [
    "### Interaction Machine"
   ]
  },
  {
   "cell_type": "code",
   "execution_count": 41,
   "metadata": {},
   "outputs": [],
   "source": [
    "class InteractionMachine:\n",
    "    def __init__(self):\n",
    "        self.user_encoder = LabelEncoder()\n",
    "        self.item_encoder = LabelEncoder()\n",
    "\n",
    "    def __repr__(self):\n",
    "        return 'InteractionMachine()'\n",
    "\n",
    "    def build(self, users, items, ratings):\n",
    "        u = self.user_encoder.fit_transform(users)\n",
    "        i = self.item_encoder.fit_transform(items)\n",
    "        self.n_users = len(np.unique(u))\n",
    "        self.n_items = len(np.unique(i))\n",
    "        self.interactions = csr_matrix((ratings, (u, i)), shape=(self.n_users, self.n_items))\n",
    "        return self"
   ]
  },
  {
   "cell_type": "code",
   "execution_count": 42,
   "metadata": {},
   "outputs": [],
   "source": [
    "im = InteractionMachine()\n",
    "im.build(df['user'], df['item'], df['review'])\n",
    "interactions = im.interactions"
   ]
  },
  {
   "cell_type": "markdown",
   "metadata": {},
   "source": [
    "### Basic LightFM "
   ]
  },
  {
   "cell_type": "code",
   "execution_count": 43,
   "metadata": {},
   "outputs": [],
   "source": [
    "model = LightFM()"
   ]
  },
  {
   "cell_type": "code",
   "execution_count": 44,
   "metadata": {},
   "outputs": [
    {
     "data": {
      "text/plain": [
       "<lightfm.lightfm.LightFM at 0x1a1ea21a20>"
      ]
     },
     "execution_count": 44,
     "metadata": {},
     "output_type": "execute_result"
    }
   ],
   "source": [
    "model.fit(interactions)"
   ]
  },
  {
   "cell_type": "code",
   "execution_count": 45,
   "metadata": {},
   "outputs": [
    {
     "data": {
      "text/plain": [
       "array([0.56409514, 0.97231287, 0.67681968])"
      ]
     },
     "execution_count": 45,
     "metadata": {},
     "output_type": "execute_result"
    }
   ],
   "source": [
    "model.predict(0, [1, 2, 3])"
   ]
  },
  {
   "cell_type": "markdown",
   "metadata": {},
   "source": [
    "### Evaluation"
   ]
  },
  {
   "cell_type": "code",
   "execution_count": 46,
   "metadata": {},
   "outputs": [],
   "source": [
    "from lightfm.evaluation import auc_score, precision_at_k"
   ]
  },
  {
   "cell_type": "markdown",
   "metadata": {},
   "source": [
    "> AUC measures the quality of the overall ranking. In the binary case, it can be interpreted as the probability that a randomly chosen positive item is ranked higher than a randomly chosen negative item. Consequently, an AUC close to 1.0 will suggest that, by and large, your ordering is correct: and this can be true even if none of the first K items are positives. This metric may be more appropriate if you do not exert full control on which results will be presented to the user; it may be that the first K recommended items are not available any more (say, they are out of stock), and you need to move further down the ranking. A high AUC score will then give you confidence that your ranking is of high quality throughout.\n",
    "\n",
    "[Source](https://stackoverflow.com/questions/45451161/evaluating-the-lightfm-recommendation-model)"
   ]
  },
  {
   "cell_type": "markdown",
   "metadata": {},
   "source": [
    "> Precision@K measures the proportion of positive items among the K highest-ranked items. As such, it's very focused on the ranking quality at the top of the list: it doesn't matter how good or bad the rest of your ranking is as long as the first K items are mostly positive. This would be an appropriate metric if you are only ever going to be showing your users the very top of the list.\n",
    "\n",
    "[Source](https://stackoverflow.com/questions/45451161/evaluating-the-lightfm-recommendation-model)"
   ]
  },
  {
   "cell_type": "code",
   "execution_count": 47,
   "metadata": {},
   "outputs": [
    {
     "data": {
      "text/plain": [
       "0.65184253"
      ]
     },
     "execution_count": 47,
     "metadata": {},
     "output_type": "execute_result"
    }
   ],
   "source": [
    "auc_score(model, interactions).mean()"
   ]
  },
  {
   "cell_type": "code",
   "execution_count": 48,
   "metadata": {},
   "outputs": [
    {
     "data": {
      "text/plain": [
       "0.110944286"
      ]
     },
     "execution_count": 48,
     "metadata": {},
     "output_type": "execute_result"
    }
   ],
   "source": [
    "precision_at_k(model, interactions, k=10).mean()"
   ]
  },
  {
   "cell_type": "markdown",
   "metadata": {},
   "source": [
    "### train-test-split"
   ]
  },
  {
   "cell_type": "code",
   "execution_count": 49,
   "metadata": {},
   "outputs": [],
   "source": [
    "from sklearn.model_selection import train_test_split"
   ]
  },
  {
   "cell_type": "code",
   "execution_count": 50,
   "metadata": {},
   "outputs": [
    {
     "data": {
      "text/plain": [
       "[<1898x142 sparse matrix of type '<class 'numpy.int64'>'\n",
       " \twith 12867 stored elements in Compressed Sparse Row format>,\n",
       " <633x142 sparse matrix of type '<class 'numpy.int64'>'\n",
       " \twith 4332 stored elements in Compressed Sparse Row format>]"
      ]
     },
     "execution_count": 50,
     "metadata": {},
     "output_type": "execute_result"
    }
   ],
   "source": [
    "train_test_split(interactions)"
   ]
  },
  {
   "cell_type": "markdown",
   "metadata": {},
   "source": [
    "### Traditional \n",
    "\n",
    "![](images/tts_traditional.png)"
   ]
  },
  {
   "cell_type": "markdown",
   "metadata": {},
   "source": [
    "### Recommendation\n",
    "\n",
    "![](images/tts_reco.png)"
   ]
  },
  {
   "cell_type": "code",
   "execution_count": 51,
   "metadata": {},
   "outputs": [],
   "source": [
    "from lightfm.cross_validation import random_train_test_split"
   ]
  },
  {
   "cell_type": "code",
   "execution_count": 52,
   "metadata": {},
   "outputs": [],
   "source": [
    "train, test = random_train_test_split(interactions, test_percentage=0.2)"
   ]
  },
  {
   "cell_type": "markdown",
   "metadata": {},
   "source": [
    "### Training Cycle"
   ]
  },
  {
   "cell_type": "code",
   "execution_count": 53,
   "metadata": {},
   "outputs": [
    {
     "data": {
      "text/plain": [
       "<lightfm.lightfm.LightFM at 0x10977c5c0>"
      ]
     },
     "execution_count": 53,
     "metadata": {},
     "output_type": "execute_result"
    }
   ],
   "source": [
    "model = LightFM()\n",
    "model.fit(train, epochs=500)"
   ]
  },
  {
   "cell_type": "code",
   "execution_count": 54,
   "metadata": {},
   "outputs": [
    {
     "data": {
      "text/plain": [
       "0.67178357"
      ]
     },
     "execution_count": 54,
     "metadata": {},
     "output_type": "execute_result"
    }
   ],
   "source": [
    "auc_score(model, test).mean()"
   ]
  },
  {
   "cell_type": "code",
   "execution_count": 55,
   "metadata": {},
   "outputs": [],
   "source": [
    "model = LightFM()\n",
    "\n",
    "scores = []\n",
    "for e in range(100):\n",
    "    model.fit_partial(train, epochs=1)\n",
    "    auc_train = auc_score(model, train).mean()\n",
    "    auc_test = auc_score(model, test).mean()\n",
    "    scores.append((auc_train, auc_test))\n",
    "    \n",
    "scores = np.array(scores)"
   ]
  },
  {
   "cell_type": "code",
   "execution_count": 56,
   "metadata": {},
   "outputs": [
    {
     "data": {
      "text/plain": [
       "<matplotlib.legend.Legend at 0x11c882d68>"
      ]
     },
     "execution_count": 56,
     "metadata": {},
     "output_type": "execute_result"
    }
   ],
   "source": [
    "from matplotlib import pyplot as plt\n",
    "\n",
    "plt.plot(scores[:, 0], label='train')\n",
    "plt.plot(scores[:, 1], label='test')\n",
    "plt.legend()"
   ]
  },
  {
   "cell_type": "markdown",
   "metadata": {},
   "source": [
    "### Loss"
   ]
  },
  {
   "cell_type": "markdown",
   "metadata": {},
   "source": [
    "> WARP: Weighted Approximate-Rank Pairwise loss. Maximises\n",
    "  the rank of positive examples by repeatedly sampling negative\n",
    "  examples until rank violating one is found. Useful when only\n",
    "  positive interactions are present and optimising the top of\n",
    "  the recommendation list (precision@k) is desired."
   ]
  },
  {
   "cell_type": "code",
   "execution_count": 57,
   "metadata": {},
   "outputs": [],
   "source": [
    "# exercise > try a couple of epoch and loss combinations"
   ]
  },
  {
   "cell_type": "code",
   "execution_count": 58,
   "metadata": {},
   "outputs": [],
   "source": [
    "model = LightFM(loss='warp')\n",
    "\n",
    "scores = []\n",
    "for e in range(100):\n",
    "    model.fit_partial(train, epochs=1)\n",
    "    auc_train = auc_score(model, train).mean()\n",
    "    auc_test = auc_score(model, test).mean()\n",
    "    scores.append((auc_train, auc_test))\n",
    "    \n",
    "scores = np.array(scores)"
   ]
  },
  {
   "cell_type": "code",
   "execution_count": 59,
   "metadata": {},
   "outputs": [
    {
     "data": {
      "text/plain": [
       "<matplotlib.legend.Legend at 0x1a1ecc2e80>"
      ]
     },
     "execution_count": 59,
     "metadata": {},
     "output_type": "execute_result"
    },
    {
     "data": {
      "image/png": "[encoded data removed]",
      "text/plain": [
       "<Figure size 432x288 with 1 Axes>"
      ]
     },
     "metadata": {
      "needs_background": "light"
     },
     "output_type": "display_data"
    }
   ],
   "source": [
    "from matplotlib import pyplot as plt\n",
    "\n",
    "plt.plot(scores[:, 0], label='train')\n",
    "plt.plot(scores[:, 1], label='test')\n",
    "plt.legend()"
   ]
  },
  {
   "cell_type": "markdown",
   "metadata": {},
   "source": [
    "### Early Stopping"
   ]
  },
  {
   "cell_type": "code",
   "execution_count": 60,
   "metadata": {},
   "outputs": [
    {
     "name": "stdout",
     "output_type": "stream",
     "text": [
      "Epoch: 0, Train AUC=0.645, Test AUC=0.631\n",
      "Epoch: 1, Train AUC=0.717, Test AUC=0.677\n",
      "Epoch: 2, Train AUC=0.776, Test AUC=0.713\n",
      "Epoch: 3, Train AUC=0.811, Test AUC=0.732\n",
      "Epoch: 4, Train AUC=0.835, Test AUC=0.742\n",
      "Epoch: 5, Train AUC=0.853, Test AUC=0.747\n",
      "Epoch: 6, Train AUC=0.866, Test AUC=0.751\n",
      "Epoch: 7, Train AUC=0.877, Test AUC=0.754\n",
      "Epoch: 8, Train AUC=0.887, Test AUC=0.756\n",
      "Epoch: 9, Train AUC=0.894, Test AUC=0.757\n",
      "Epoch: 10, Train AUC=0.901, Test AUC=0.756\n",
      "Epoch: 11, Train AUC=0.906, Test AUC=0.756\n",
      "Epoch: 12, Train AUC=0.911, Test AUC=0.756\n",
      "Epoch: 13, Train AUC=0.915, Test AUC=0.755\n",
      "Epoch: 14, Train AUC=0.918, Test AUC=0.755\n",
      "Epoch: 15, Train AUC=0.921, Test AUC=0.753\n"
     ]
    }
   ],
   "source": [
    "from copy import deepcopy\n",
    "\n",
    "model = LightFM(loss='warp')\n",
    "\n",
    "count = 0\n",
    "best = 0\n",
    "scores = []\n",
    "for e in range(100):\n",
    "    if count > 5: # patience\n",
    "        break\n",
    "    model.fit_partial(train, epochs=1)\n",
    "    auc_train = auc_score(model, train).mean()\n",
    "    auc_test = auc_score(model, test).mean()\n",
    "    print(f'Epoch: {e}, Train AUC={auc_train:.3f}, Test AUC={auc_test:.3f}')\n",
    "    scores.append((auc_train, auc_test))\n",
    "    if auc_test > best:\n",
    "        best_model = deepcopy(model)\n",
    "        best = auc_test\n",
    "    else:\n",
    "        count += 1\n",
    "\n",
    "model = deepcopy(best_model)"
   ]
  },
  {
   "cell_type": "markdown",
   "metadata": {},
   "source": [
    "### New Predictions"
   ]
  },
  {
   "cell_type": "code",
   "execution_count": 61,
   "metadata": {},
   "outputs": [
    {
     "data": {
      "text/html": [
       "<div>\n",
       "<style scoped>\n",
       "    .dataframe tbody tr th:only-of-type {\n",
       "        vertical-align: middle;\n",
       "    }\n",
       "\n",
       "    .dataframe tbody tr th {\n",
       "        vertical-align: top;\n",
       "    }\n",
       "\n",
       "    .dataframe thead th {\n",
       "        text-align: right;\n",
       "    }\n",
       "</style>\n",
       "<table border=\"1\" class=\"dataframe\">\n",
       "  <thead>\n",
       "    <tr style=\"text-align: right;\">\n",
       "      <th></th>\n",
       "      <th>item</th>\n",
       "      <th>user</th>\n",
       "      <th>review</th>\n",
       "    </tr>\n",
       "  </thead>\n",
       "  <tbody>\n",
       "    <tr>\n",
       "      <th>13806</th>\n",
       "      <td>Mike and Ike Sour Licious Zours</td>\n",
       "      <td>aaron67</td>\n",
       "      <td>4</td>\n",
       "    </tr>\n",
       "    <tr>\n",
       "      <th>14073</th>\n",
       "      <td>Kit Kat Minis Crisp Wafers in Milk Chocolate</td>\n",
       "      <td>aaron67</td>\n",
       "      <td>5</td>\n",
       "    </tr>\n",
       "    <tr>\n",
       "      <th>14396</th>\n",
       "      <td>Reese's Peanut Butter Cup Pumpkins Milk Chocolate</td>\n",
       "      <td>aaron67</td>\n",
       "      <td>5</td>\n",
       "    </tr>\n",
       "    <tr>\n",
       "      <th>15153</th>\n",
       "      <td>Snickers Crisper Chocolate Bar</td>\n",
       "      <td>aaron67</td>\n",
       "      <td>1</td>\n",
       "    </tr>\n",
       "    <tr>\n",
       "      <th>15296</th>\n",
       "      <td>Snickers Peanut Butter Squared Bars</td>\n",
       "      <td>aaron67</td>\n",
       "      <td>5</td>\n",
       "    </tr>\n",
       "    <tr>\n",
       "      <th>16867</th>\n",
       "      <td>Reese's Peanut Butter Heart</td>\n",
       "      <td>aaron67</td>\n",
       "      <td>5</td>\n",
       "    </tr>\n",
       "  </tbody>\n",
       "</table>\n",
       "</div>"
      ],
      "text/plain": [
       "                                                    item     user  review\n",
       "13806                    Mike and Ike Sour Licious Zours  aaron67       4\n",
       "14073       Kit Kat Minis Crisp Wafers in Milk Chocolate  aaron67       5\n",
       "14396  Reese's Peanut Butter Cup Pumpkins Milk Chocolate  aaron67       5\n",
       "15153                     Snickers Crisper Chocolate Bar  aaron67       1\n",
       "15296                Snickers Peanut Butter Squared Bars  aaron67       5\n",
       "16867                        Reese's Peanut Butter Heart  aaron67       5"
      ]
     },
     "execution_count": 61,
     "metadata": {},
     "output_type": "execute_result"
    }
   ],
   "source": [
    "user = 'aaron67'\n",
    "df[df['user'] == user]"
   ]
  },
  {
   "cell_type": "code",
   "execution_count": 62,
   "metadata": {},
   "outputs": [],
   "source": [
    "user_id = user_encoder.transform([user])[0]"
   ]
  },
  {
   "cell_type": "code",
   "execution_count": 63,
   "metadata": {},
   "outputs": [
    {
     "data": {
      "text/html": [
       "<div>\n",
       "<style scoped>\n",
       "    .dataframe tbody tr th:only-of-type {\n",
       "        vertical-align: middle;\n",
       "    }\n",
       "\n",
       "    .dataframe tbody tr th {\n",
       "        vertical-align: top;\n",
       "    }\n",
       "\n",
       "    .dataframe thead th {\n",
       "        text-align: right;\n",
       "    }\n",
       "</style>\n",
       "<table border=\"1\" class=\"dataframe\">\n",
       "  <thead>\n",
       "    <tr style=\"text-align: right;\">\n",
       "      <th></th>\n",
       "      <th>pred</th>\n",
       "      <th>item</th>\n",
       "    </tr>\n",
       "  </thead>\n",
       "  <tbody>\n",
       "    <tr>\n",
       "      <th>92</th>\n",
       "      <td>1.344560</td>\n",
       "      <td>Reese's Peanut Butter Cup Pumpkins Milk Chocolate</td>\n",
       "    </tr>\n",
       "    <tr>\n",
       "      <th>81</th>\n",
       "      <td>0.815100</td>\n",
       "      <td>Nestle Baby Ruth Bar</td>\n",
       "    </tr>\n",
       "    <tr>\n",
       "      <th>45</th>\n",
       "      <td>0.594204</td>\n",
       "      <td>Hershey's Nuggets Milk Chocolate with Almonds</td>\n",
       "    </tr>\n",
       "    <tr>\n",
       "      <th>40</th>\n",
       "      <td>0.558297</td>\n",
       "      <td>Hershey's Kisses Milk Chocolates with Almonds</td>\n",
       "    </tr>\n",
       "    <tr>\n",
       "      <th>43</th>\n",
       "      <td>0.520468</td>\n",
       "      <td>Hershey's Natural Unsweetened Cocoa</td>\n",
       "    </tr>\n",
       "  </tbody>\n",
       "</table>\n",
       "</div>"
      ],
      "text/plain": [
       "        pred                                               item\n",
       "92  1.344560  Reese's Peanut Butter Cup Pumpkins Milk Chocolate\n",
       "81  0.815100                               Nestle Baby Ruth Bar\n",
       "45  0.594204      Hershey's Nuggets Milk Chocolate with Almonds\n",
       "40  0.558297      Hershey's Kisses Milk Chocolates with Almonds\n",
       "43  0.520468                Hershey's Natural Unsweetened Cocoa"
      ]
     },
     "execution_count": 63,
     "metadata": {},
     "output_type": "execute_result"
    }
   ],
   "source": [
    "preds = model.predict(user_id, list(range(li)))\n",
    "preds = pd.DataFrame(zip(preds, item_encoder.classes_), columns=['pred', 'item'])\n",
    "preds = preds.sort_values('pred', ascending=False)\n",
    "preds.head()"
   ]
  },
  {
   "cell_type": "code",
   "execution_count": 64,
   "metadata": {},
   "outputs": [
    {
     "data": {
      "text/plain": [
       "['Nestle Baby Ruth Bar',\n",
       " \"Hershey's Nuggets Milk Chocolate with Almonds\",\n",
       " \"Hershey's Kisses Milk Chocolates with Almonds\",\n",
       " \"Hershey's Natural Unsweetened Cocoa\",\n",
       " 'Lindt Lindor Stracciatella Chocolate']"
      ]
     },
     "execution_count": 64,
     "metadata": {},
     "output_type": "execute_result"
    }
   ],
   "source": [
    "tried = df[df['user'] == user]['item'].values\n",
    "list(preds[~preds['item'].isin(tried)]['item'].values[:5])"
   ]
  },
  {
   "cell_type": "markdown",
   "metadata": {},
   "source": [
    "### New Users"
   ]
  },
  {
   "cell_type": "markdown",
   "metadata": {},
   "source": [
    "![](images/sol.png)"
   ]
  },
  {
   "cell_type": "markdown",
   "metadata": {},
   "source": [
    "### Unless..."
   ]
  },
  {
   "cell_type": "code",
   "execution_count": 65,
   "metadata": {},
   "outputs": [],
   "source": [
    "ex = pd.DataFrame([\n",
    "    [0, 1, 1, 0, 0, 0], \n",
    "    [0, 1, 1, 1, 0, 0],\n",
    "    [1, 0, 0, 1, 0, 0],\n",
    "    [0, 1, 1, 0, 0, 1],\n",
    "    [0, 0, 0, 1, 1, 1]\n",
    "])"
   ]
  },
  {
   "cell_type": "code",
   "execution_count": 66,
   "metadata": {},
   "outputs": [
    {
     "data": {
      "text/plain": [
       "array([[0.        , 1.        , 2.        , 1.        , 2.23606798],\n",
       "       [1.        , 0.        , 1.73205081, 1.41421356, 2.        ],\n",
       "       [2.        , 1.73205081, 0.        , 2.23606798, 1.73205081],\n",
       "       [1.        , 1.41421356, 2.23606798, 0.        , 2.        ],\n",
       "       [2.23606798, 2.        , 1.73205081, 2.        , 0.        ]])"
      ]
     },
     "execution_count": 66,
     "metadata": {},
     "output_type": "execute_result"
    }
   ],
   "source": [
    "from sklearn.metrics.pairwise import euclidean_distances\n",
    "\n",
    "euclidean_distances(ex)"
   ]
  },
  {
   "cell_type": "code",
   "execution_count": 67,
   "metadata": {},
   "outputs": [],
   "source": [
    "df = pd.read_csv(\"data/candy.csv\")\n",
    "df = df[df['review'] >= 4]"
   ]
  },
  {
   "cell_type": "code",
   "execution_count": 68,
   "metadata": {},
   "outputs": [
    {
     "data": {
      "text/html": [
       "<div>\n",
       "<style scoped>\n",
       "    .dataframe tbody tr th:only-of-type {\n",
       "        vertical-align: middle;\n",
       "    }\n",
       "\n",
       "    .dataframe tbody tr th {\n",
       "        vertical-align: top;\n",
       "    }\n",
       "\n",
       "    .dataframe thead th {\n",
       "        text-align: right;\n",
       "    }\n",
       "</style>\n",
       "<table border=\"1\" class=\"dataframe\">\n",
       "  <thead>\n",
       "    <tr style=\"text-align: right;\">\n",
       "      <th></th>\n",
       "      <th>item</th>\n",
       "      <th>user</th>\n",
       "      <th>review</th>\n",
       "    </tr>\n",
       "  </thead>\n",
       "  <tbody>\n",
       "    <tr>\n",
       "      <th>2860</th>\n",
       "      <td>Reese's Peanut Butter Cup Pumpkins Milk Chocolate</td>\n",
       "      <td>charles70</td>\n",
       "      <td>5</td>\n",
       "    </tr>\n",
       "    <tr>\n",
       "      <th>11171</th>\n",
       "      <td>Butterfinger Peanut Butter Cups Minis</td>\n",
       "      <td>jonesalyssa</td>\n",
       "      <td>5</td>\n",
       "    </tr>\n",
       "    <tr>\n",
       "      <th>8955</th>\n",
       "      <td>Hershey's Nuggets Milk Chocolate with Almonds</td>\n",
       "      <td>lindsaylewis</td>\n",
       "      <td>5</td>\n",
       "    </tr>\n",
       "    <tr>\n",
       "      <th>9550</th>\n",
       "      <td>Life Savers Five Flavor Gummies</td>\n",
       "      <td>brandonwhite</td>\n",
       "      <td>5</td>\n",
       "    </tr>\n",
       "    <tr>\n",
       "      <th>14298</th>\n",
       "      <td>Reese's Reeses Peanut Butter Trees</td>\n",
       "      <td>robertwhitney</td>\n",
       "      <td>5</td>\n",
       "    </tr>\n",
       "  </tbody>\n",
       "</table>\n",
       "</div>"
      ],
      "text/plain": [
       "                                                    item           user  \\\n",
       "2860   Reese's Peanut Butter Cup Pumpkins Milk Chocolate      charles70   \n",
       "11171              Butterfinger Peanut Butter Cups Minis    jonesalyssa   \n",
       "8955       Hershey's Nuggets Milk Chocolate with Almonds   lindsaylewis   \n",
       "9550                     Life Savers Five Flavor Gummies   brandonwhite   \n",
       "14298                 Reese's Reeses Peanut Butter Trees  robertwhitney   \n",
       "\n",
       "       review  \n",
       "2860        5  \n",
       "11171       5  \n",
       "8955        5  \n",
       "9550        5  \n",
       "14298       5  "
      ]
     },
     "execution_count": 68,
     "metadata": {},
     "output_type": "execute_result"
    }
   ],
   "source": [
    "df.sample(5)"
   ]
  },
  {
   "cell_type": "code",
   "execution_count": 69,
   "metadata": {},
   "outputs": [
    {
     "data": {
      "text/html": [
       "<div>\n",
       "<style scoped>\n",
       "    .dataframe tbody tr th:only-of-type {\n",
       "        vertical-align: middle;\n",
       "    }\n",
       "\n",
       "    .dataframe tbody tr th {\n",
       "        vertical-align: top;\n",
       "    }\n",
       "\n",
       "    .dataframe thead th {\n",
       "        text-align: right;\n",
       "    }\n",
       "</style>\n",
       "<table border=\"1\" class=\"dataframe\">\n",
       "  <thead>\n",
       "    <tr style=\"text-align: right;\">\n",
       "      <th></th>\n",
       "      <th>item</th>\n",
       "    </tr>\n",
       "    <tr>\n",
       "      <th>user</th>\n",
       "      <th></th>\n",
       "    </tr>\n",
       "  </thead>\n",
       "  <tbody>\n",
       "    <tr>\n",
       "      <th>aaron67</th>\n",
       "      <td>Mike and Ike Sour Licious Zours,Kit Kat Minis ...</td>\n",
       "    </tr>\n",
       "    <tr>\n",
       "      <th>aaron68</th>\n",
       "      <td>Hubba Bubba Bubbletape Awesome Original,Brooks...</td>\n",
       "    </tr>\n",
       "    <tr>\n",
       "      <th>aaron73</th>\n",
       "      <td>Dove Chocolate Promises Silky Smooth Sea Salt ...</td>\n",
       "    </tr>\n",
       "    <tr>\n",
       "      <th>abarker</th>\n",
       "      <td>Reese's Peanut Butter Bunny,Ghirardelli Gourme...</td>\n",
       "    </tr>\n",
       "    <tr>\n",
       "      <th>abigail04</th>\n",
       "      <td>Kit Kat Minis Crisp Wafers in Milk Chocolate,P...</td>\n",
       "    </tr>\n",
       "  </tbody>\n",
       "</table>\n",
       "</div>"
      ],
      "text/plain": [
       "                                                        item\n",
       "user                                                        \n",
       "aaron67    Mike and Ike Sour Licious Zours,Kit Kat Minis ...\n",
       "aaron68    Hubba Bubba Bubbletape Awesome Original,Brooks...\n",
       "aaron73    Dove Chocolate Promises Silky Smooth Sea Salt ...\n",
       "abarker    Reese's Peanut Butter Bunny,Ghirardelli Gourme...\n",
       "abigail04  Kit Kat Minis Crisp Wafers in Milk Chocolate,P..."
      ]
     },
     "execution_count": 69,
     "metadata": {},
     "output_type": "execute_result"
    }
   ],
   "source": [
    "df = df.groupby([\"user\"])[\"item\"].apply(lambda x: \",\".join(x))\n",
    "df = pd.DataFrame(df)\n",
    "df.head()"
   ]
  },
  {
   "cell_type": "code",
   "execution_count": 70,
   "metadata": {},
   "outputs": [],
   "source": [
    "from sklearn.feature_extraction.text import CountVectorizer\n",
    "\n",
    "cv = CountVectorizer(tokenizer=lambda x: x.split(\",\"), max_features=250)\n",
    "X = cv.fit_transform(df['item'])"
   ]
  },
  {
   "cell_type": "code",
   "execution_count": 71,
   "metadata": {},
   "outputs": [
    {
     "data": {
      "text/plain": [
       "NearestNeighbors(algorithm='auto', leaf_size=30, metric='minkowski',\n",
       "                 metric_params=None, n_jobs=None, n_neighbors=5, p=2,\n",
       "                 radius=1.0)"
      ]
     },
     "execution_count": 71,
     "metadata": {},
     "output_type": "execute_result"
    }
   ],
   "source": [
    "from sklearn.neighbors import NearestNeighbors\n",
    "\n",
    "nn = NearestNeighbors(n_neighbors=5)\n",
    "nn.fit(X)"
   ]
  },
  {
   "cell_type": "code",
   "execution_count": 72,
   "metadata": {},
   "outputs": [
    {
     "data": {
      "text/plain": [
       "array([[   0, 2042,  920,  186, 1625],\n",
       "       [   1,  404, 2424, 1110, 2370],\n",
       "       [   2, 2221,  677, 1386,  739],\n",
       "       ...,\n",
       "       [2525,  620,  782,  661, 1546],\n",
       "       [2526,  308, 2236,  177,  801],\n",
       "       [2527, 1252, 1350, 2111, 2346]])"
      ]
     },
     "execution_count": 72,
     "metadata": {},
     "output_type": "execute_result"
    }
   ],
   "source": [
    "neighbors = nn.kneighbors(X, return_distance=False)\n",
    "neighbors"
   ]
  },
  {
   "cell_type": "code",
   "execution_count": 73,
   "metadata": {},
   "outputs": [
    {
     "data": {
      "text/plain": [
       "array([   0, 2042,  920,  186, 1625])"
      ]
     },
     "execution_count": 73,
     "metadata": {},
     "output_type": "execute_result"
    }
   ],
   "source": [
    "neighbors[0]"
   ]
  },
  {
   "cell_type": "code",
   "execution_count": 74,
   "metadata": {},
   "outputs": [
    {
     "data": {
      "text/plain": [
       "[\"Hershey's Natural Unsweetened Cocoa\",\n",
       " 'Jet Puffed Stackermallows Marshmallows',\n",
       " 'Kit Kat Minis Crisp Wafers in Milk Chocolate',\n",
       " 'Mike and Ike Sour Licious Zours',\n",
       " 'Snickers Peanut Butter Squared Bars',\n",
       " 'Sour Punch Real Rainbow Straws',\n",
       " 'Nestle Butterfinger Bites',\n",
       " 'Kraft Vanilla Caramels Snack Bags',\n",
       " 'Kirkland Milk Chocolate Almonds',\n",
       " \"Reese's Peanut Butter Cup Pumpkins Milk Chocolate\",\n",
       " \"Reese's Peanut Butter Heart\",\n",
       " 'Mounds Candy Bar',\n",
       " 'Airheads Bites Fruit']"
      ]
     },
     "execution_count": 74,
     "metadata": {},
     "output_type": "execute_result"
    }
   ],
   "source": [
    "candy = []\n",
    "for n in neighbors[0]:\n",
    "    c = df.iloc[int(n)].values[0].split(\",\")\n",
    "    candy.extend(c)\n",
    "    \n",
    "list(set(candy))"
   ]
  },
  {
   "cell_type": "markdown",
   "metadata": {},
   "source": [
    "### Putting a bow on it"
   ]
  },
  {
   "cell_type": "code",
   "execution_count": 75,
   "metadata": {},
   "outputs": [
    {
     "data": {
      "text/html": [
       "<div>\n",
       "<style scoped>\n",
       "    .dataframe tbody tr th:only-of-type {\n",
       "        vertical-align: middle;\n",
       "    }\n",
       "\n",
       "    .dataframe tbody tr th {\n",
       "        vertical-align: top;\n",
       "    }\n",
       "\n",
       "    .dataframe thead th {\n",
       "        text-align: right;\n",
       "    }\n",
       "</style>\n",
       "<table border=\"1\" class=\"dataframe\">\n",
       "  <thead>\n",
       "    <tr style=\"text-align: right;\">\n",
       "      <th></th>\n",
       "      <th>item</th>\n",
       "    </tr>\n",
       "    <tr>\n",
       "      <th>user</th>\n",
       "      <th></th>\n",
       "    </tr>\n",
       "  </thead>\n",
       "  <tbody>\n",
       "    <tr>\n",
       "      <th>aaron67</th>\n",
       "      <td>Mike and Ike Sour Licious Zours,Kit Kat Minis ...</td>\n",
       "    </tr>\n",
       "    <tr>\n",
       "      <th>aaron68</th>\n",
       "      <td>Hubba Bubba Bubbletape Awesome Original,Brooks...</td>\n",
       "    </tr>\n",
       "    <tr>\n",
       "      <th>aaron73</th>\n",
       "      <td>Dove Chocolate Promises Silky Smooth Sea Salt ...</td>\n",
       "    </tr>\n",
       "    <tr>\n",
       "      <th>abarker</th>\n",
       "      <td>Reese's Peanut Butter Bunny,Ghirardelli Gourme...</td>\n",
       "    </tr>\n",
       "    <tr>\n",
       "      <th>abigail04</th>\n",
       "      <td>Kit Kat Minis Crisp Wafers in Milk Chocolate,P...</td>\n",
       "    </tr>\n",
       "  </tbody>\n",
       "</table>\n",
       "</div>"
      ],
      "text/plain": [
       "                                                        item\n",
       "user                                                        \n",
       "aaron67    Mike and Ike Sour Licious Zours,Kit Kat Minis ...\n",
       "aaron68    Hubba Bubba Bubbletape Awesome Original,Brooks...\n",
       "aaron73    Dove Chocolate Promises Silky Smooth Sea Salt ...\n",
       "abarker    Reese's Peanut Butter Bunny,Ghirardelli Gourme...\n",
       "abigail04  Kit Kat Minis Crisp Wafers in Milk Chocolate,P..."
      ]
     },
     "execution_count": 75,
     "metadata": {},
     "output_type": "execute_result"
    }
   ],
   "source": [
    "df = pd.read_csv(\"data/candy.csv\")\n",
    "df = df[df['review'] >= 4]\n",
    "df = df.groupby([\"user\"])[\"item\"].apply(lambda x: \",\".join(x))\n",
    "df = pd.DataFrame(df)\n",
    "df.head()"
   ]
  },
  {
   "cell_type": "code",
   "execution_count": 76,
   "metadata": {},
   "outputs": [],
   "source": [
    "class NNRecommender:\n",
    "    def __init__(\n",
    "        self, n_neighbors=5, max_features=250, tokenizer=lambda x: x.split(\",\")):\n",
    "        self.cv = CountVectorizer(tokenizer=tokenizer, max_features=max_features)\n",
    "        self.nn = NearestNeighbors(n_neighbors=n_neighbors)\n",
    "\n",
    "    def fit(self, X):\n",
    "        self.X = X\n",
    "        X = self.cv.fit_transform(X)\n",
    "        self.nn.fit(X)\n",
    "        return self\n",
    "\n",
    "    def predict(self, X):\n",
    "        Xp = []\n",
    "        for Xi in X:\n",
    "            Xt = self.cv.transform([Xi])\n",
    "            _, neighbors = self.nn.kneighbors(Xt)\n",
    "            repos = []\n",
    "            for n in neighbors[0]:\n",
    "                r = self.X.iloc[int(n)].split(\",\")\n",
    "                repos.extend(r)\n",
    "            repos = list(set(repos))\n",
    "            repos = [r for r in repos if r not in Xi.split(\",\")]\n",
    "            Xp.append(repos)\n",
    "        return Xp"
   ]
  },
  {
   "cell_type": "code",
   "execution_count": 77,
   "metadata": {},
   "outputs": [
    {
     "data": {
      "text/plain": [
       "<__main__.NNRecommender at 0x11995b240>"
      ]
     },
     "execution_count": 77,
     "metadata": {},
     "output_type": "execute_result"
    }
   ],
   "source": [
    "n_neighbors = 5\n",
    "max_features = 250\n",
    "model = NNRecommender(n_neighbors, max_features)\n",
    "model.fit(df[\"item\"])"
   ]
  },
  {
   "cell_type": "code",
   "execution_count": 78,
   "metadata": {},
   "outputs": [
    {
     "data": {
      "text/plain": [
       "array([\"Hershey's Kisses Milk Chocolate,Demets Turtles Original,Dove Chocolate Silky Smooth Dark Chocolate Large Bar,Nestle Baby Ruth Bar,Milky Way Simply Caramel Bar\"],\n",
       "      dtype=object)"
      ]
     },
     "execution_count": 78,
     "metadata": {},
     "output_type": "execute_result"
    }
   ],
   "source": [
    "df.sample(1)['item'].values"
   ]
  },
  {
   "cell_type": "code",
   "execution_count": 79,
   "metadata": {},
   "outputs": [],
   "source": [
    "sweet = [\"Airheads Xtremes Sweetly Sour Candy Rainbow Berry,Life Savers Five Flavor Gummies,Twizzlers Pull-N-Peel Candy Cherry\"]"
   ]
  },
  {
   "cell_type": "code",
   "execution_count": 80,
   "metadata": {},
   "outputs": [],
   "source": [
    "peanut = [\"Reese's Peanut Butter Cups Miniatures,M&Ms Peanut Chocolate Candy,Reese's Peanut Butter Big Cup\"]"
   ]
  },
  {
   "cell_type": "code",
   "execution_count": 81,
   "metadata": {},
   "outputs": [
    {
     "data": {
      "text/plain": [
       "[['Warheads Extreme Sour Hard Candy',\n",
       "  'Brookside Dark Chocolate Pomegranate Flavor',\n",
       "  'Mars Candy Fun Size Mix Peanut And Peanut Butter Lovers',\n",
       "  'Starburst Original',\n",
       "  'Demets Turtles Original',\n",
       "  'Starburst Original Jelly Beans',\n",
       "  'Trolli Sour Brite Eggs Candy']]"
      ]
     },
     "execution_count": 81,
     "metadata": {},
     "output_type": "execute_result"
    }
   ],
   "source": [
    "model.predict(sweet)"
   ]
  },
  {
   "cell_type": "code",
   "execution_count": 82,
   "metadata": {},
   "outputs": [
    {
     "data": {
      "text/plain": [
       "[[\"Reese's Peanut Butter Egg\",\n",
       "  \"Reese's Outrageous King Size Bar\",\n",
       "  'Ferrero Rocher Chocolate',\n",
       "  'Twix',\n",
       "  \"Hershey's Cookies 'n' Creme Candy Bar\",\n",
       "  'Snickers Chocolate Bar',\n",
       "  '3 Musketeers Candy Bar']]"
      ]
     },
     "execution_count": 82,
     "metadata": {},
     "output_type": "execute_result"
    }
   ],
   "source": [
    "model.predict(peanut)"
   ]
  }
 ],
 "metadata": {
  "kernelspec": {
   "display_name": "Python 3",
   "language": "python",
   "name": "python3"
  },
  "language_info": {
   "codemirror_mode": {
    "name": "ipython",
    "version": 3
   },
   "file_extension": ".py",
   "mimetype": "text/x-python",
   "name": "python",
   "nbconvert_exporter": "python",
   "pygments_lexer": "ipython3",
   "version": "3.7.3"
  }
 },
 "nbformat": 4,
 "nbformat_minor": 2
}
