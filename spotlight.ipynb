{
 "cells": [
  {
   "cell_type": "code",
   "execution_count": 1,
   "metadata": {},
   "outputs": [],
   "source": [
    "import pandas as pd\n",
    "import numpy as np\n",
    "from sklearn.preprocessing import LabelEncoder\n",
    "from spotlight.interactions import Interactions\n",
    "from spotlight.factorization.explicit import ExplicitFactorizationModel\n",
    "from spotlight.cross_validation import random_train_test_split\n",
    "from spotlight import evaluation"
   ]
  },
  {
   "cell_type": "code",
   "execution_count": 2,
   "metadata": {},
   "outputs": [],
   "source": [
    "df = pd.read_csv('data/beer.csv')"
   ]
  },
  {
   "cell_type": "code",
   "execution_count": 3,
   "metadata": {},
   "outputs": [],
   "source": [
    "user = 'name'\n",
    "item = 'beer'\n",
    "rating = 'rating'\n",
    "\n",
    "user_encoder = LabelEncoder()\n",
    "item_encoder = LabelEncoder()\n",
    "\n",
    "eu = user_encoder.fit_transform(df[user])\n",
    "ei = item_encoder.fit_transform(df[item])\n",
    "\n",
    "explicit_interactions = Interactions(eu, ei, np.array(df['rating']).astype('float32'))"
   ]
  },
  {
   "cell_type": "code",
   "execution_count": 4,
   "metadata": {},
   "outputs": [],
   "source": [
    "train, test = random_train_test_split(explicit_interactions, random_state=np.random.RandomState(42))"
   ]
  },
  {
   "cell_type": "code",
   "execution_count": 24,
   "metadata": {},
   "outputs": [],
   "source": [
    "explicit_model = ExplicitFactorizationModel(\n",
    "    loss='regression',\n",
    "    embedding_dim=32,\n",
    "    n_iter=10,\n",
    "    batch_size=250,\n",
    "    learning_rate=0.01\n",
    ")\n",
    "\n",
    "explicit_model.fit(train)"
   ]
  },
  {
   "cell_type": "code",
   "execution_count": 25,
   "metadata": {},
   "outputs": [
    {
     "data": {
      "text/plain": [
       "0.132967032967033"
      ]
     },
     "execution_count": 25,
     "metadata": {},
     "output_type": "execute_result"
    }
   ],
   "source": [
    "pk, rk = evaluation.precision_recall_score(explicit_model, test, train=None, k=10)\n",
    "np.mean(pk)"
   ]
  },
  {
   "cell_type": "code",
   "execution_count": 26,
   "metadata": {},
   "outputs": [],
   "source": [
    "coo = pd.DataFrame(explicit_interactions.tocoo().todense())\n",
    "coo.index = [user_encoder.inverse_transform([i])[0] for i in coo.index]\n",
    "coo.columns = [item_encoder.inverse_transform([c])[0] for c in coo.columns]"
   ]
  },
  {
   "cell_type": "code",
   "execution_count": 28,
   "metadata": {},
   "outputs": [
    {
     "data": {
      "text/html": [
       "<div>\n",
       "<style scoped>\n",
       "    .dataframe tbody tr th:only-of-type {\n",
       "        vertical-align: middle;\n",
       "    }\n",
       "\n",
       "    .dataframe tbody tr th {\n",
       "        vertical-align: top;\n",
       "    }\n",
       "\n",
       "    .dataframe thead th {\n",
       "        text-align: right;\n",
       "    }\n",
       "</style>\n",
       "<table border=\"1\" class=\"dataframe\">\n",
       "  <thead>\n",
       "    <tr style=\"text-align: right;\">\n",
       "      <th></th>\n",
       "      <th>A l'abri de la Tempête: Corne de Brume</th>\n",
       "      <th>Ace Hill Brewing Company: Ace Hill Pilsner</th>\n",
       "      <th>Alexander Keiths: Red Amber Ale</th>\n",
       "      <th>Amsterdam Brewing Company: (416) Local Lager</th>\n",
       "      <th>Amsterdam Brewing Company: 3 Speed</th>\n",
       "      <th>Amsterdam Brewing Company: All Natural Blonde</th>\n",
       "      <th>Amsterdam Brewing Company: Autumn Hop</th>\n",
       "      <th>Amsterdam Brewing Company: Big Wheel Deluxe Amber</th>\n",
       "      <th>Amsterdam Brewing Company: Boneshaker</th>\n",
       "      <th>Amsterdam Brewing Company: Cruiser All Day Pale Ale</th>\n",
       "      <th>...</th>\n",
       "      <th>Unibroue: Éphémère Cherry</th>\n",
       "      <th>Unibroue: Éphémère Elderberry</th>\n",
       "      <th>Unibroue: Éphémère Pear</th>\n",
       "      <th>Wellington Brewery: Bewitched Belgian</th>\n",
       "      <th>Wellington Brewery: Helles Bock</th>\n",
       "      <th>Wellington Brewery: Iron Duke</th>\n",
       "      <th>Woodhouse Brewing Co.: Woodhouse Lager</th>\n",
       "      <th>À la Fût: Cuvée Houblonée I</th>\n",
       "      <th>À la Fût: Hopfenweisse</th>\n",
       "      <th>À la Fût: À La Belge Triple</th>\n",
       "    </tr>\n",
       "  </thead>\n",
       "  <tbody>\n",
       "    <tr>\n",
       "      <th>Aaron Clark</th>\n",
       "      <td>0.0</td>\n",
       "      <td>0.0</td>\n",
       "      <td>4.0</td>\n",
       "      <td>0.0</td>\n",
       "      <td>0.0</td>\n",
       "      <td>0.0</td>\n",
       "      <td>0.0</td>\n",
       "      <td>0.0</td>\n",
       "      <td>0.0</td>\n",
       "      <td>0.0</td>\n",
       "      <td>...</td>\n",
       "      <td>0.0</td>\n",
       "      <td>0.0</td>\n",
       "      <td>0.0</td>\n",
       "      <td>0.0</td>\n",
       "      <td>0.0</td>\n",
       "      <td>0.0</td>\n",
       "      <td>0.0</td>\n",
       "      <td>0.0</td>\n",
       "      <td>0.0</td>\n",
       "      <td>0.0</td>\n",
       "    </tr>\n",
       "    <tr>\n",
       "      <th>Adam Johnson</th>\n",
       "      <td>0.0</td>\n",
       "      <td>0.0</td>\n",
       "      <td>1.0</td>\n",
       "      <td>0.0</td>\n",
       "      <td>0.0</td>\n",
       "      <td>0.0</td>\n",
       "      <td>0.0</td>\n",
       "      <td>0.0</td>\n",
       "      <td>0.0</td>\n",
       "      <td>0.0</td>\n",
       "      <td>...</td>\n",
       "      <td>0.0</td>\n",
       "      <td>0.0</td>\n",
       "      <td>0.0</td>\n",
       "      <td>0.0</td>\n",
       "      <td>0.0</td>\n",
       "      <td>0.0</td>\n",
       "      <td>0.0</td>\n",
       "      <td>0.0</td>\n",
       "      <td>0.0</td>\n",
       "      <td>0.0</td>\n",
       "    </tr>\n",
       "    <tr>\n",
       "      <th>Amber Chapman</th>\n",
       "      <td>0.0</td>\n",
       "      <td>0.0</td>\n",
       "      <td>2.0</td>\n",
       "      <td>0.0</td>\n",
       "      <td>0.0</td>\n",
       "      <td>0.0</td>\n",
       "      <td>0.0</td>\n",
       "      <td>0.0</td>\n",
       "      <td>0.0</td>\n",
       "      <td>0.0</td>\n",
       "      <td>...</td>\n",
       "      <td>0.0</td>\n",
       "      <td>0.0</td>\n",
       "      <td>0.0</td>\n",
       "      <td>0.0</td>\n",
       "      <td>0.0</td>\n",
       "      <td>0.0</td>\n",
       "      <td>0.0</td>\n",
       "      <td>0.0</td>\n",
       "      <td>0.0</td>\n",
       "      <td>0.0</td>\n",
       "    </tr>\n",
       "    <tr>\n",
       "      <th>Amber Mullins</th>\n",
       "      <td>0.0</td>\n",
       "      <td>0.0</td>\n",
       "      <td>6.0</td>\n",
       "      <td>0.0</td>\n",
       "      <td>0.0</td>\n",
       "      <td>0.0</td>\n",
       "      <td>0.0</td>\n",
       "      <td>0.0</td>\n",
       "      <td>0.0</td>\n",
       "      <td>0.0</td>\n",
       "      <td>...</td>\n",
       "      <td>0.0</td>\n",
       "      <td>0.0</td>\n",
       "      <td>0.0</td>\n",
       "      <td>0.0</td>\n",
       "      <td>0.0</td>\n",
       "      <td>0.0</td>\n",
       "      <td>0.0</td>\n",
       "      <td>0.0</td>\n",
       "      <td>0.0</td>\n",
       "      <td>0.0</td>\n",
       "    </tr>\n",
       "    <tr>\n",
       "      <th>Andrea Washington</th>\n",
       "      <td>0.0</td>\n",
       "      <td>0.0</td>\n",
       "      <td>2.0</td>\n",
       "      <td>0.0</td>\n",
       "      <td>0.0</td>\n",
       "      <td>0.0</td>\n",
       "      <td>0.0</td>\n",
       "      <td>0.0</td>\n",
       "      <td>0.0</td>\n",
       "      <td>0.0</td>\n",
       "      <td>...</td>\n",
       "      <td>0.0</td>\n",
       "      <td>0.0</td>\n",
       "      <td>0.0</td>\n",
       "      <td>0.0</td>\n",
       "      <td>0.0</td>\n",
       "      <td>0.0</td>\n",
       "      <td>0.0</td>\n",
       "      <td>0.0</td>\n",
       "      <td>0.0</td>\n",
       "      <td>0.0</td>\n",
       "    </tr>\n",
       "  </tbody>\n",
       "</table>\n",
       "<p>5 rows × 337 columns</p>\n",
       "</div>"
      ],
      "text/plain": [
       "                   A l'abri de la Tempête: Corne de Brume  \\\n",
       "Aaron Clark                                           0.0   \n",
       "Adam Johnson                                          0.0   \n",
       "Amber Chapman                                         0.0   \n",
       "Amber Mullins                                         0.0   \n",
       "Andrea Washington                                     0.0   \n",
       "\n",
       "                   Ace Hill Brewing Company: Ace Hill Pilsner  \\\n",
       "Aaron Clark                                               0.0   \n",
       "Adam Johnson                                              0.0   \n",
       "Amber Chapman                                             0.0   \n",
       "Amber Mullins                                             0.0   \n",
       "Andrea Washington                                         0.0   \n",
       "\n",
       "                   Alexander Keiths: Red Amber Ale  \\\n",
       "Aaron Clark                                    4.0   \n",
       "Adam Johnson                                   1.0   \n",
       "Amber Chapman                                  2.0   \n",
       "Amber Mullins                                  6.0   \n",
       "Andrea Washington                              2.0   \n",
       "\n",
       "                   Amsterdam Brewing Company: (416) Local Lager  \\\n",
       "Aaron Clark                                                 0.0   \n",
       "Adam Johnson                                                0.0   \n",
       "Amber Chapman                                               0.0   \n",
       "Amber Mullins                                               0.0   \n",
       "Andrea Washington                                           0.0   \n",
       "\n",
       "                   Amsterdam Brewing Company: 3 Speed  \\\n",
       "Aaron Clark                                       0.0   \n",
       "Adam Johnson                                      0.0   \n",
       "Amber Chapman                                     0.0   \n",
       "Amber Mullins                                     0.0   \n",
       "Andrea Washington                                 0.0   \n",
       "\n",
       "                   Amsterdam Brewing Company: All Natural Blonde  \\\n",
       "Aaron Clark                                                  0.0   \n",
       "Adam Johnson                                                 0.0   \n",
       "Amber Chapman                                                0.0   \n",
       "Amber Mullins                                                0.0   \n",
       "Andrea Washington                                            0.0   \n",
       "\n",
       "                   Amsterdam Brewing Company: Autumn Hop  \\\n",
       "Aaron Clark                                          0.0   \n",
       "Adam Johnson                                         0.0   \n",
       "Amber Chapman                                        0.0   \n",
       "Amber Mullins                                        0.0   \n",
       "Andrea Washington                                    0.0   \n",
       "\n",
       "                   Amsterdam Brewing Company: Big Wheel Deluxe Amber  \\\n",
       "Aaron Clark                                                      0.0   \n",
       "Adam Johnson                                                     0.0   \n",
       "Amber Chapman                                                    0.0   \n",
       "Amber Mullins                                                    0.0   \n",
       "Andrea Washington                                                0.0   \n",
       "\n",
       "                   Amsterdam Brewing Company: Boneshaker  \\\n",
       "Aaron Clark                                          0.0   \n",
       "Adam Johnson                                         0.0   \n",
       "Amber Chapman                                        0.0   \n",
       "Amber Mullins                                        0.0   \n",
       "Andrea Washington                                    0.0   \n",
       "\n",
       "                   Amsterdam Brewing Company: Cruiser All Day Pale Ale  ...  \\\n",
       "Aaron Clark                                                      0.0    ...   \n",
       "Adam Johnson                                                     0.0    ...   \n",
       "Amber Chapman                                                    0.0    ...   \n",
       "Amber Mullins                                                    0.0    ...   \n",
       "Andrea Washington                                                0.0    ...   \n",
       "\n",
       "                   Unibroue: Éphémère Cherry  Unibroue: Éphémère Elderberry  \\\n",
       "Aaron Clark                              0.0                            0.0   \n",
       "Adam Johnson                             0.0                            0.0   \n",
       "Amber Chapman                            0.0                            0.0   \n",
       "Amber Mullins                            0.0                            0.0   \n",
       "Andrea Washington                        0.0                            0.0   \n",
       "\n",
       "                   Unibroue: Éphémère Pear  \\\n",
       "Aaron Clark                            0.0   \n",
       "Adam Johnson                           0.0   \n",
       "Amber Chapman                          0.0   \n",
       "Amber Mullins                          0.0   \n",
       "Andrea Washington                      0.0   \n",
       "\n",
       "                   Wellington Brewery: Bewitched Belgian  \\\n",
       "Aaron Clark                                          0.0   \n",
       "Adam Johnson                                         0.0   \n",
       "Amber Chapman                                        0.0   \n",
       "Amber Mullins                                        0.0   \n",
       "Andrea Washington                                    0.0   \n",
       "\n",
       "                   Wellington Brewery: Helles Bock  \\\n",
       "Aaron Clark                                    0.0   \n",
       "Adam Johnson                                   0.0   \n",
       "Amber Chapman                                  0.0   \n",
       "Amber Mullins                                  0.0   \n",
       "Andrea Washington                              0.0   \n",
       "\n",
       "                   Wellington Brewery: Iron Duke  \\\n",
       "Aaron Clark                                  0.0   \n",
       "Adam Johnson                                 0.0   \n",
       "Amber Chapman                                0.0   \n",
       "Amber Mullins                                0.0   \n",
       "Andrea Washington                            0.0   \n",
       "\n",
       "                   Woodhouse Brewing Co.: Woodhouse Lager  \\\n",
       "Aaron Clark                                           0.0   \n",
       "Adam Johnson                                          0.0   \n",
       "Amber Chapman                                         0.0   \n",
       "Amber Mullins                                         0.0   \n",
       "Andrea Washington                                     0.0   \n",
       "\n",
       "                   À la Fût: Cuvée Houblonée I  À la Fût: Hopfenweisse  \\\n",
       "Aaron Clark                                0.0                     0.0   \n",
       "Adam Johnson                               0.0                     0.0   \n",
       "Amber Chapman                              0.0                     0.0   \n",
       "Amber Mullins                              0.0                     0.0   \n",
       "Andrea Washington                          0.0                     0.0   \n",
       "\n",
       "                   À la Fût: À La Belge Triple  \n",
       "Aaron Clark                                0.0  \n",
       "Adam Johnson                               0.0  \n",
       "Amber Chapman                              0.0  \n",
       "Amber Mullins                              0.0  \n",
       "Andrea Washington                          0.0  \n",
       "\n",
       "[5 rows x 337 columns]"
      ]
     },
     "execution_count": 28,
     "metadata": {},
     "output_type": "execute_result"
    }
   ],
   "source": [
    "coo.head()"
   ]
  },
  {
   "cell_type": "code",
   "execution_count": 30,
   "metadata": {},
   "outputs": [
    {
     "data": {
      "text/plain": [
       "array([\"A l'abri de la Tempête: Corne de Brume\",\n",
       "       'Ace Hill Brewing Company: Ace Hill Pilsner',\n",
       "       'Alexander Keiths: Red Amber Ale',\n",
       "       'Amsterdam Brewing Company: (416) Local Lager',\n",
       "       'Amsterdam Brewing Company: 3 Speed',\n",
       "       'Amsterdam Brewing Company: All Natural Blonde',\n",
       "       'Amsterdam Brewing Company: Autumn Hop',\n",
       "       'Amsterdam Brewing Company: Big Wheel Deluxe Amber',\n",
       "       'Amsterdam Brewing Company: Boneshaker',\n",
       "       'Amsterdam Brewing Company: Cruiser All Day Pale Ale'],\n",
       "      dtype=object)"
      ]
     },
     "execution_count": 30,
     "metadata": {},
     "output_type": "execute_result"
    }
   ],
   "source": [
    "person = 'Adam Johnson'\n",
    "user_id = user_encoder.transform([person])[0]\n",
    "explicit_model.predict(np.array([user_id]))\n",
    "item_encoder.classes_[:10]"
   ]
  },
  {
   "cell_type": "code",
   "execution_count": 46,
   "metadata": {},
   "outputs": [],
   "source": [
    "pred = pd.DataFrame({\n",
    "    'p-rating': explicit_model.predict(np.array([user_id])),\n",
    "    'beer': item_encoder.classes_\n",
    "})\n",
    "\n",
    "pred = pred.sort_values('p-rating', ascending=False)\n",
    "ordered_predictions = pred['beer'].tolist()"
   ]
  },
  {
   "cell_type": "code",
   "execution_count": 55,
   "metadata": {},
   "outputs": [
    {
     "data": {
      "text/plain": [
       "['Heineken: Heineken Lager',\n",
       " 'Guiness: Guinness',\n",
       " \"Brasserie D'Achouffe: La Chouffe\",\n",
       " 'Brasserie Dieu De Ciel!: Peche Mortel',\n",
       " 'Bellwoods Brewery: Jelly King',\n",
       " 'Brouwerij Rodenbach: Rodenbach Grand Cru,',\n",
       " 'Mill Street Brewery: 100th Meridian',\n",
       " 'Creemore Spring Brewery: Creemore Springs Premium Lager',\n",
       " 'Sawdust City Brewing Co.: Juicin',\n",
       " 'Grupo Modelo: Corona',\n",
       " 'Coors Brewing Company: Coors Light',\n",
       " 'Blue Moon Brewing Company: Blue Moon',\n",
       " 'Great Lakes Brewery: Great Lakes Octopus Wants To Fight IPA',\n",
       " \"Beau's All Natural Brewing Company: Beau's Lugtread\",\n",
       " 'Side Launch Brewing Company: Side Launch Wheat',\n",
       " 'Clifford Brewing Co.: Clifford Porter',\n",
       " 'Sawdust City Brewing Co.: Little Norway',\n",
       " 'Alexander Keiths: Red Amber Ale',\n",
       " 'Sierra Nevada Brewing Co.: Pale Ale',\n",
       " 'Redline Brewhouse: Clutch']"
      ]
     },
     "execution_count": 55,
     "metadata": {},
     "output_type": "execute_result"
    }
   ],
   "source": [
    "tried_beers = df[df['name'] == person]['beer'].tolist()\n",
    "tried_beers"
   ]
  },
  {
   "cell_type": "code",
   "execution_count": null,
   "metadata": {},
   "outputs": [],
   "source": [
    "ordered_predictions"
   ]
  },
  {
   "cell_type": "code",
   "execution_count": 52,
   "metadata": {},
   "outputs": [
    {
     "data": {
      "text/plain": [
       "['High Road Brewing: Bronan',\n",
       " 'High Road Brewing: Cloud Piercer',\n",
       " 'Brewery Ommegang: Ommegang Pale Sour',\n",
       " 'Sawdust City Brewing: Twin Pine',\n",
       " 'Bellwoods Brewery: Jelly King - Pink Guava',\n",
       " 'Bellwoods Brewery: Witchshark',\n",
       " 'Nickel Brook Brewing: Über - Raspberry',\n",
       " 'Bellwoods Brewery: Jutsu',\n",
       " 'Les Trois Mousquetaires: Gose',\n",
       " 'Bellwoods Brewery: Boogie Monster']"
      ]
     },
     "execution_count": 52,
     "metadata": {},
     "output_type": "execute_result"
    }
   ],
   "source": [
    "[i for i in ordered_predictions if i not in tried_beers][:10]"
   ]
  },
  {
   "cell_type": "code",
   "execution_count": 54,
   "metadata": {},
   "outputs": [
    {
     "data": {
      "text/plain": [
       "2.3869462"
      ]
     },
     "execution_count": 54,
     "metadata": {},
     "output_type": "execute_result"
    }
   ],
   "source": [
    "from spotlight.evaluation import rmse_score\n",
    "rmse_score(explicit_model, test)"
   ]
  },
  {
   "cell_type": "markdown",
   "metadata": {},
   "source": [
    "### WIP"
   ]
  },
  {
   "cell_type": "code",
   "execution_count": 68,
   "metadata": {},
   "outputs": [
    {
     "data": {
      "text/plain": [
       "<Interactions dataset (98 users x 337 items x 2660 interactions)>"
      ]
     },
     "execution_count": 68,
     "metadata": {},
     "output_type": "execute_result"
    }
   ],
   "source": [
    "class InteractionMachine:\n",
    "    \n",
    "    def __init__(self, df, ratings, users, items):\n",
    "        self.user_encoder = LabelEncoder()\n",
    "        self.item_encoder = LabelEncoder()\n",
    "        user_ids = self.user_encoder.fit_transform(df[user])\n",
    "        item_ids = self.item_encoder.fit_transform(df[item])\n",
    "        ratings = np.array(df[ratings]).astype('float32')\n",
    "        self.interactions = Interactions(user_ids, item_ids, ratings)\n",
    "        \n",
    "im = InteractionMachine(df, 'rating', 'user', 'item')\n",
    "im.interactions"
   ]
  },
  {
   "cell_type": "code",
   "execution_count": 70,
   "metadata": {},
   "outputs": [],
   "source": [
    "train, test = random_train_test_split(im.interactions)"
   ]
  },
  {
   "cell_type": "code",
   "execution_count": 71,
   "metadata": {},
   "outputs": [],
   "source": [
    "class RecommendationMachine(ExplicitFactorizationModel):\n",
    "    \n",
    "    def __init__(self, *args, **kwargs):\n",
    "        super().__init__(*args, **kwargs)\n",
    "        \n",
    "    def fit(self, interaction_machine):\n",
    "        super().fit(interaction_machine.interactions)\n",
    "        self.user_encoder = interaction_machine.user_encoder\n",
    "        self.item_encoder = interaction_machine.item_encoder\n",
    "\n",
    "\n",
    "model = RecommendationMachine(n_iter=100)\n",
    "model.fit(im)"
   ]
  },
  {
   "cell_type": "code",
   "execution_count": 74,
   "metadata": {},
   "outputs": [
    {
     "data": {
      "text/plain": [
       "['High Road Brewing: Bronan',\n",
       " 'High Road Brewing: Cloud Piercer',\n",
       " 'Brewery Ommegang: Ommegang Pale Sour',\n",
       " 'Sawdust City Brewing: Twin Pine',\n",
       " 'Bellwoods Brewery: Jelly King - Pink Guava',\n",
       " 'Bellwoods Brewery: Witchshark',\n",
       " 'Nickel Brook Brewing: Über - Raspberry',\n",
       " 'Bellwoods Brewery: Jutsu',\n",
       " 'Les Trois Mousquetaires: Gose',\n",
       " 'Bellwoods Brewery: Boogie Monster']"
      ]
     },
     "execution_count": 74,
     "metadata": {},
     "output_type": "execute_result"
    }
   ],
   "source": [
    "person = 'Adam Johnson'\n",
    "user_id = user_encoder.transform([person])[0]\n",
    "\n",
    "pred = pd.DataFrame({\n",
    "    'p-rating': explicit_model.predict(np.array([user_id])),\n",
    "    'beer': item_encoder.classes_\n",
    "})\n",
    "pred = pred.sort_values('p-rating', ascending=False)\n",
    "ordered_predictions = pred['beer'].tolist()\n",
    "tried_beers = df[df['name'] == person]['beer'].tolist()\n",
    "[i for i in ordered_predictions if i not in tried_beers][:10]"
   ]
  }
 ],
 "metadata": {
  "kernelspec": {
   "display_name": "Python 3",
   "language": "python",
   "name": "python3"
  },
  "language_info": {
   "codemirror_mode": {
    "name": "ipython",
    "version": 3
   },
   "file_extension": ".py",
   "mimetype": "text/x-python",
   "name": "python",
   "nbconvert_exporter": "python",
   "pygments_lexer": "ipython3",
   "version": "3.6.8"
  }
 },
 "nbformat": 4,
 "nbformat_minor": 2
}
