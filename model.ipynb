{
 "cells": [
  {
   "cell_type": "markdown",
   "metadata": {},
   "source": [
    "### The Data"
   ]
  },
  {
   "cell_type": "code",
   "execution_count": 1,
   "metadata": {},
   "outputs": [],
   "source": [
    "import pandas as pd"
   ]
  },
  {
   "cell_type": "code",
   "execution_count": 3,
   "metadata": {},
   "outputs": [],
   "source": [
    "df = pd.read_csv('../data/stars.csv')"
   ]
  },
  {
   "cell_type": "code",
   "execution_count": 4,
   "metadata": {},
   "outputs": [
    {
     "data": {
      "text/html": [
       "<div>\n",
       "<style scoped>\n",
       "    .dataframe tbody tr th:only-of-type {\n",
       "        vertical-align: middle;\n",
       "    }\n",
       "\n",
       "    .dataframe tbody tr th {\n",
       "        vertical-align: top;\n",
       "    }\n",
       "\n",
       "    .dataframe thead th {\n",
       "        text-align: right;\n",
       "    }\n",
       "</style>\n",
       "<table border=\"1\" class=\"dataframe\">\n",
       "  <thead>\n",
       "    <tr style=\"text-align: right;\">\n",
       "      <th></th>\n",
       "      <th>description</th>\n",
       "      <th>language</th>\n",
       "      <th>repo</th>\n",
       "      <th>stargazers</th>\n",
       "      <th>user</th>\n",
       "    </tr>\n",
       "  </thead>\n",
       "  <tbody>\n",
       "    <tr>\n",
       "      <td>24405</td>\n",
       "      <td>Python MUD/MUX/MUSH/MU* development system</td>\n",
       "      <td>Python</td>\n",
       "      <td>evennia/evennia</td>\n",
       "      <td>988</td>\n",
       "      <td>ka1nsha</td>\n",
       "    </tr>\n",
       "    <tr>\n",
       "      <td>23961</td>\n",
       "      <td>Ready-to-run Docker images containing Jupyter ...</td>\n",
       "      <td>Shell</td>\n",
       "      <td>jupyter/docker-stacks</td>\n",
       "      <td>4365</td>\n",
       "      <td>sseemayer</td>\n",
       "    </tr>\n",
       "    <tr>\n",
       "      <td>3137</td>\n",
       "      <td>The next generation relational database.</td>\n",
       "      <td>Python</td>\n",
       "      <td>edgedb/edgedb</td>\n",
       "      <td>3293</td>\n",
       "      <td>Na0ture</td>\n",
       "    </tr>\n",
       "    <tr>\n",
       "      <td>22593</td>\n",
       "      <td>Distributed crawler powered by Headless Chrome</td>\n",
       "      <td>JavaScript</td>\n",
       "      <td>yujiosaka/headless-chrome-crawler</td>\n",
       "      <td>4276</td>\n",
       "      <td>andrewwxy</td>\n",
       "    </tr>\n",
       "    <tr>\n",
       "      <td>11412</td>\n",
       "      <td>A repository for learning various heap exploit...</td>\n",
       "      <td>C</td>\n",
       "      <td>shellphish/how2heap</td>\n",
       "      <td>3330</td>\n",
       "      <td>owen800q</td>\n",
       "    </tr>\n",
       "  </tbody>\n",
       "</table>\n",
       "</div>"
      ],
      "text/plain": [
       "                                             description    language  \\\n",
       "24405         Python MUD/MUX/MUSH/MU* development system      Python   \n",
       "23961  Ready-to-run Docker images containing Jupyter ...       Shell   \n",
       "3137            The next generation relational database.      Python   \n",
       "22593     Distributed crawler powered by Headless Chrome  JavaScript   \n",
       "11412  A repository for learning various heap exploit...           C   \n",
       "\n",
       "                                    repo  stargazers       user  \n",
       "24405                    evennia/evennia         988    ka1nsha  \n",
       "23961              jupyter/docker-stacks        4365  sseemayer  \n",
       "3137                       edgedb/edgedb        3293    Na0ture  \n",
       "22593  yujiosaka/headless-chrome-crawler        4276  andrewwxy  \n",
       "11412                shellphish/how2heap        3330   owen800q  "
      ]
     },
     "execution_count": 4,
     "metadata": {},
     "output_type": "execute_result"
    }
   ],
   "source": [
    "df.sample(5)"
   ]
  },
  {
   "cell_type": "markdown",
   "metadata": {},
   "source": [
    "### The Cleanup"
   ]
  },
  {
   "cell_type": "code",
   "execution_count": 5,
   "metadata": {},
   "outputs": [],
   "source": [
    "df = df[df['repo'] != 'maxhumber/gazpacho']\n",
    "df = df[df.language.isin(['Python', 'Jupyter Notebook'])]\n",
    "popular = pd.DataFrame(df['repo'].value_counts())\n",
    "select_repos = popular[popular['repo'] >= 5].index.tolist()\n",
    "df = df[df['repo'].isin(select_repos)]"
   ]
  },
  {
   "cell_type": "code",
   "execution_count": 6,
   "metadata": {},
   "outputs": [
    {
     "data": {
      "text/html": [
       "<div>\n",
       "<style scoped>\n",
       "    .dataframe tbody tr th:only-of-type {\n",
       "        vertical-align: middle;\n",
       "    }\n",
       "\n",
       "    .dataframe tbody tr th {\n",
       "        vertical-align: top;\n",
       "    }\n",
       "\n",
       "    .dataframe thead th {\n",
       "        text-align: right;\n",
       "    }\n",
       "</style>\n",
       "<table border=\"1\" class=\"dataframe\">\n",
       "  <thead>\n",
       "    <tr style=\"text-align: right;\">\n",
       "      <th></th>\n",
       "      <th>description</th>\n",
       "      <th>language</th>\n",
       "      <th>repo</th>\n",
       "      <th>stargazers</th>\n",
       "      <th>user</th>\n",
       "    </tr>\n",
       "  </thead>\n",
       "  <tbody>\n",
       "    <tr>\n",
       "      <td>13273</td>\n",
       "      <td>Transistor, a Python web scraping framework fo...</td>\n",
       "      <td>Python</td>\n",
       "      <td>bomquote/transistor</td>\n",
       "      <td>188</td>\n",
       "      <td>erdimollahuseyin</td>\n",
       "    </tr>\n",
       "    <tr>\n",
       "      <td>5007</td>\n",
       "      <td>👨‍💼Python Wrapper for the Linkedin API</td>\n",
       "      <td>Python</td>\n",
       "      <td>tomquirk/linkedin-api</td>\n",
       "      <td>155</td>\n",
       "      <td>janscas</td>\n",
       "    </tr>\n",
       "    <tr>\n",
       "      <td>6881</td>\n",
       "      <td>More routines for operating on iterables, beyo...</td>\n",
       "      <td>Python</td>\n",
       "      <td>erikrose/more-itertools</td>\n",
       "      <td>1061</td>\n",
       "      <td>DahlitzFlorian</td>\n",
       "    </tr>\n",
       "    <tr>\n",
       "      <td>13146</td>\n",
       "      <td>Kubernetes-native Deep Learning Framework</td>\n",
       "      <td>Python</td>\n",
       "      <td>sql-machine-learning/elasticdl</td>\n",
       "      <td>315</td>\n",
       "      <td>erdimollahuseyin</td>\n",
       "    </tr>\n",
       "    <tr>\n",
       "      <td>15125</td>\n",
       "      <td>Open Source Differentiable Computer Vision Lib...</td>\n",
       "      <td>Python</td>\n",
       "      <td>arraiyopensource/kornia</td>\n",
       "      <td>1233</td>\n",
       "      <td>mattias71</td>\n",
       "    </tr>\n",
       "  </tbody>\n",
       "</table>\n",
       "</div>"
      ],
      "text/plain": [
       "                                             description language  \\\n",
       "13273  Transistor, a Python web scraping framework fo...   Python   \n",
       "5007              👨‍💼Python Wrapper for the Linkedin API   Python   \n",
       "6881   More routines for operating on iterables, beyo...   Python   \n",
       "13146          Kubernetes-native Deep Learning Framework   Python   \n",
       "15125  Open Source Differentiable Computer Vision Lib...   Python   \n",
       "\n",
       "                                 repo  stargazers              user  \n",
       "13273             bomquote/transistor         188  erdimollahuseyin  \n",
       "5007            tomquirk/linkedin-api         155           janscas  \n",
       "6881          erikrose/more-itertools        1061    DahlitzFlorian  \n",
       "13146  sql-machine-learning/elasticdl         315  erdimollahuseyin  \n",
       "15125         arraiyopensource/kornia        1233         mattias71  "
      ]
     },
     "execution_count": 6,
     "metadata": {},
     "output_type": "execute_result"
    }
   ],
   "source": [
    "df.sample(5)"
   ]
  },
  {
   "cell_type": "code",
   "execution_count": 7,
   "metadata": {},
   "outputs": [
    {
     "data": {
      "text/plain": [
       "(2229, 5)"
      ]
     },
     "execution_count": 7,
     "metadata": {},
     "output_type": "execute_result"
    }
   ],
   "source": [
    "df.shape"
   ]
  },
  {
   "cell_type": "code",
   "execution_count": 8,
   "metadata": {},
   "outputs": [
    {
     "data": {
      "text/html": [
       "<div>\n",
       "<style scoped>\n",
       "    .dataframe tbody tr th:only-of-type {\n",
       "        vertical-align: middle;\n",
       "    }\n",
       "\n",
       "    .dataframe tbody tr th {\n",
       "        vertical-align: top;\n",
       "    }\n",
       "\n",
       "    .dataframe thead th {\n",
       "        text-align: right;\n",
       "    }\n",
       "</style>\n",
       "<table border=\"1\" class=\"dataframe\">\n",
       "  <thead>\n",
       "    <tr style=\"text-align: right;\">\n",
       "      <th></th>\n",
       "      <th>0</th>\n",
       "      <th>1</th>\n",
       "      <th>2</th>\n",
       "      <th>3</th>\n",
       "    </tr>\n",
       "  </thead>\n",
       "  <tbody>\n",
       "    <tr>\n",
       "      <td>0</td>\n",
       "      <td>0</td>\n",
       "      <td>0</td>\n",
       "      <td>1</td>\n",
       "      <td>0</td>\n",
       "    </tr>\n",
       "    <tr>\n",
       "      <td>1</td>\n",
       "      <td>0</td>\n",
       "      <td>1</td>\n",
       "      <td>1</td>\n",
       "      <td>0</td>\n",
       "    </tr>\n",
       "    <tr>\n",
       "      <td>2</td>\n",
       "      <td>1</td>\n",
       "      <td>0</td>\n",
       "      <td>0</td>\n",
       "      <td>1</td>\n",
       "    </tr>\n",
       "    <tr>\n",
       "      <td>3</td>\n",
       "      <td>0</td>\n",
       "      <td>0</td>\n",
       "      <td>0</td>\n",
       "      <td>1</td>\n",
       "    </tr>\n",
       "  </tbody>\n",
       "</table>\n",
       "</div>"
      ],
      "text/plain": [
       "   0  1  2  3\n",
       "0  0  0  1  0\n",
       "1  0  1  1  0\n",
       "2  1  0  0  1\n",
       "3  0  0  0  1"
      ]
     },
     "execution_count": 8,
     "metadata": {},
     "output_type": "execute_result"
    }
   ],
   "source": [
    "# shove into something that looks like this?\n",
    "pd.DataFrame([\n",
    "    [0, 0, 1, 0],\n",
    "    [0, 1, 1, 0],\n",
    "    [1, 0, 0, 1],\n",
    "    [0, 0, 0, 1]\n",
    "])"
   ]
  },
  {
   "cell_type": "markdown",
   "metadata": {},
   "source": [
    "### The Preparation"
   ]
  },
  {
   "cell_type": "code",
   "execution_count": 9,
   "metadata": {},
   "outputs": [],
   "source": [
    "df = df.groupby(['user'])['repo'].apply(lambda x: ','.join(x))\n",
    "df = pd.DataFrame(df)"
   ]
  },
  {
   "cell_type": "code",
   "execution_count": 10,
   "metadata": {},
   "outputs": [
    {
     "data": {
      "text/html": [
       "<div>\n",
       "<style scoped>\n",
       "    .dataframe tbody tr th:only-of-type {\n",
       "        vertical-align: middle;\n",
       "    }\n",
       "\n",
       "    .dataframe tbody tr th {\n",
       "        vertical-align: top;\n",
       "    }\n",
       "\n",
       "    .dataframe thead th {\n",
       "        text-align: right;\n",
       "    }\n",
       "</style>\n",
       "<table border=\"1\" class=\"dataframe\">\n",
       "  <thead>\n",
       "    <tr style=\"text-align: right;\">\n",
       "      <th></th>\n",
       "      <th>repo</th>\n",
       "    </tr>\n",
       "    <tr>\n",
       "      <th>user</th>\n",
       "      <th></th>\n",
       "    </tr>\n",
       "  </thead>\n",
       "  <tbody>\n",
       "    <tr>\n",
       "      <td>fly51fly</td>\n",
       "      <td>sebst/pythonic-news,pytorch/captum,wxWidgets/P...</td>\n",
       "    </tr>\n",
       "    <tr>\n",
       "      <td>boada</td>\n",
       "      <td>kootenpv/brightml,hukkelas/DeepPrivacy,Phantom...</td>\n",
       "    </tr>\n",
       "    <tr>\n",
       "      <td>tones7778</td>\n",
       "      <td>prabhupant/python-ds,plainas/flask-swagger-typ...</td>\n",
       "    </tr>\n",
       "    <tr>\n",
       "      <td>rlgomes</td>\n",
       "      <td>svip-lab/impersonator,timothycrosley/hypothesi...</td>\n",
       "    </tr>\n",
       "    <tr>\n",
       "      <td>edujtm</td>\n",
       "      <td>flask-restful/flask-restful,encode/starlette,j...</td>\n",
       "    </tr>\n",
       "  </tbody>\n",
       "</table>\n",
       "</div>"
      ],
      "text/plain": [
       "                                                        repo\n",
       "user                                                        \n",
       "fly51fly   sebst/pythonic-news,pytorch/captum,wxWidgets/P...\n",
       "boada      kootenpv/brightml,hukkelas/DeepPrivacy,Phantom...\n",
       "tones7778  prabhupant/python-ds,plainas/flask-swagger-typ...\n",
       "rlgomes    svip-lab/impersonator,timothycrosley/hypothesi...\n",
       "edujtm     flask-restful/flask-restful,encode/starlette,j..."
      ]
     },
     "execution_count": 10,
     "metadata": {},
     "output_type": "execute_result"
    }
   ],
   "source": [
    "df.sample(5)"
   ]
  },
  {
   "cell_type": "code",
   "execution_count": 11,
   "metadata": {},
   "outputs": [
    {
     "data": {
      "text/plain": [
       "['vinta/awesome-python,CorentinJ/Real-Time-Voice-Cloning,danijar/handout,ageitgey/face_recognition,jofpin/trape,grapheneX/grapheneX,gto76/python-cheatsheet,trekhleb/homemade-machine-learning,manrajgrover/halo,chris104957/maildown,psf/black,stewartmcgown/uds,TheAlgorithms/Python,cool-RR/PySnooper,Bogdanp/molten,nicolargo/glances,mkaz/termgraph,donnemartin/system-design-primer,chubin/cheat.sh,psf/requests-html,Zulko/moviepy,jarun/Buku,pypa/pipenv,soimort/you-get,public-apis/public-apis,HelloZeroNet/ZeroNet']"
      ]
     },
     "execution_count": 11,
     "metadata": {},
     "output_type": "execute_result"
    }
   ],
   "source": [
    "df.loc['Curlybear'].values.tolist()"
   ]
  },
  {
   "cell_type": "markdown",
   "metadata": {},
   "source": [
    "### The Model"
   ]
  },
  {
   "cell_type": "code",
   "execution_count": 12,
   "metadata": {},
   "outputs": [],
   "source": [
    "from sklearn.feature_extraction.text import CountVectorizer\n",
    "from sklearn.neighbors import NearestNeighbors\n",
    "\n",
    "\n",
    "class NNRecommender:\n",
    "    def __init__(self, n_neighbors=10, max_features=1000, tokenizer=lambda x: x.split(\",\")):\n",
    "        self.cv = CountVectorizer(tokenizer=tokenizer, max_features=max_features)\n",
    "        self.nn = NearestNeighbors(n_neighbors=n_neighbors)\n",
    "\n",
    "    def fit(self, X):\n",
    "        self.X = X\n",
    "        X = self.cv.fit_transform(X)\n",
    "        self.nn.fit(X)\n",
    "        return self\n",
    "\n",
    "    def predict(self, X):\n",
    "        Xp = []\n",
    "        for Xi in X:\n",
    "            Xt = self.cv.transform([Xi])\n",
    "            neighbors = self.nn.kneighbors(Xt, return_distance=False)\n",
    "            repos = []\n",
    "            for n in neighbors[0]:\n",
    "                r = self.X.iloc[int(n)].split(\",\")\n",
    "                repos.extend(r)\n",
    "            repos = list(set(repos))\n",
    "            repos = [r for r in repos if r not in Xi.split(\",\")]\n",
    "            Xp.append(repos)\n",
    "        return Xp"
   ]
  },
  {
   "cell_type": "code",
   "execution_count": 13,
   "metadata": {},
   "outputs": [
    {
     "data": {
      "text/plain": [
       "<__main__.NNRecommender at 0x11c839790>"
      ]
     },
     "execution_count": 13,
     "metadata": {},
     "output_type": "execute_result"
    }
   ],
   "source": [
    "model = NNRecommender()\n",
    "model.fit(df['repo'])"
   ]
  },
  {
   "cell_type": "code",
   "execution_count": 14,
   "metadata": {},
   "outputs": [
    {
     "data": {
      "text/plain": [
       "'CorentinJ/Real-Time-Voice-Cloning,s0md3v/goop,psf/requests,slundberg/shap,facebookresearch/pytext,practicalAI/practicalAI,Zulko/moviepy,python/mypy,ParthS007/background,keon/algorithms,google/python-fire,eriklindernoren/ML-From-Scratch,minimaxir/big-list-of-naughty-strings,pudo/dataset,nvbn/thefuck,dbcli/pgcli,faif/python-patterns,chriskiehl/Gooey'"
      ]
     },
     "execution_count": 14,
     "metadata": {},
     "output_type": "execute_result"
    }
   ],
   "source": [
    "df['repo'][42]"
   ]
  },
  {
   "cell_type": "code",
   "execution_count": 15,
   "metadata": {},
   "outputs": [
    {
     "data": {
      "text/plain": [
       "[['Miserlou/Zappa',\n",
       "  'ageron/handson-ml2',\n",
       "  'donnemartin/interactive-coding-challenges',\n",
       "  'sherlock-project/sherlock',\n",
       "  'scikit-learn/scikit-learn',\n",
       "  'smacke/subsync',\n",
       "  'dae/anki',\n",
       "  'weskerfoot/DeleteFB',\n",
       "  'sloria/TextBlob',\n",
       "  'shengqiangzhang/examples-of-web-crawlers',\n",
       "  'deepfakes/faceswap',\n",
       "  'fastai/fastai']]"
      ]
     },
     "execution_count": 15,
     "metadata": {},
     "output_type": "execute_result"
    }
   ],
   "source": [
    "model.predict([df['repo'][42]])"
   ]
  },
  {
   "cell_type": "markdown",
   "metadata": {},
   "source": [
    "### Under the Hood"
   ]
  },
  {
   "cell_type": "code",
   "execution_count": 16,
   "metadata": {},
   "outputs": [
    {
     "data": {
      "text/plain": [
       "['python/cpython,hugapi/hug,HypothesisWorks/hypothesis,timothycrosley/portray,timothycrosley/hypothesis-auto,tiangolo/fastapi,bocadilloproject/bocadillo,tartiflette/tartiflette,encode/httpx,pytest-dev/pytest,tonybaloney/wily,sdispater/poetry,mahmoud/glom,psf/black,chubin/wttr.in']"
      ]
     },
     "execution_count": 16,
     "metadata": {},
     "output_type": "execute_result"
    }
   ],
   "source": [
    "df.iloc[0].values.tolist()"
   ]
  },
  {
   "cell_type": "code",
   "execution_count": 17,
   "metadata": {},
   "outputs": [
    {
     "data": {
      "text/plain": [
       "matrix([[0, 0, 0, ..., 0, 0, 0],\n",
       "        [0, 0, 0, ..., 1, 1, 0],\n",
       "        [0, 0, 0, ..., 0, 0, 0],\n",
       "        [0, 0, 0, ..., 0, 0, 0],\n",
       "        [0, 0, 0, ..., 0, 0, 0]])"
      ]
     },
     "execution_count": 17,
     "metadata": {},
     "output_type": "execute_result"
    }
   ],
   "source": [
    "cv = CountVectorizer(tokenizer=lambda x: x.split(','), max_features=1000)\n",
    "X = cv.fit_transform(df['repo'])\n",
    "X.todense()[:5]"
   ]
  },
  {
   "cell_type": "code",
   "execution_count": 18,
   "metadata": {},
   "outputs": [],
   "source": [
    "nn = NearestNeighbors(n_neighbors=10)"
   ]
  },
  {
   "cell_type": "code",
   "execution_count": 19,
   "metadata": {},
   "outputs": [
    {
     "data": {
      "text/plain": [
       "array([[106,  14,  99,  48,  65,   3,  10,  19,   2,  40],\n",
       "       [ 14,  66,  99,  10,  19,  65,  48,   3,  40,  12],\n",
       "       [ 10,  19,   3,  99,  48,  14,  65,  40,  66,  92],\n",
       "       [ 48,  10,  99,  19,  14,  65,   2,  40,  92,  72],\n",
       "       [ 28,  10,  48,  72,  20,  19,  99,  14,  65,   3]])"
      ]
     },
     "execution_count": 19,
     "metadata": {},
     "output_type": "execute_result"
    }
   ],
   "source": [
    "nn.fit(X)\n",
    "ind = nn.kneighbors(return_distance=False)\n",
    "ind[:5]"
   ]
  },
  {
   "cell_type": "code",
   "execution_count": 20,
   "metadata": {},
   "outputs": [
    {
     "data": {
      "text/plain": [
       "array(['timothycrosley/hypothesis-auto,timothycrosley/portray,sdispater/poetry,wyounas/homer,tiangolo/fastapi,psf/black,marshmallow-code/marshmallow,falconry/falcon,cookiecutter/cookiecutter'],\n",
       "      dtype=object)"
      ]
     },
     "execution_count": 20,
     "metadata": {},
     "output_type": "execute_result"
    }
   ],
   "source": [
    "df.iloc[106].values"
   ]
  },
  {
   "cell_type": "markdown",
   "metadata": {},
   "source": [
    "#### Pickle "
   ]
  },
  {
   "cell_type": "code",
   "execution_count": 21,
   "metadata": {},
   "outputs": [],
   "source": [
    "import pickle"
   ]
  },
  {
   "cell_type": "code",
   "execution_count": 22,
   "metadata": {},
   "outputs": [
    {
     "ename": "PicklingError",
     "evalue": "Can't pickle <function NNRecommender.<lambda> at 0x1a1d745200>: attribute lookup NNRecommender.<lambda> on __main__ failed",
     "output_type": "error",
     "traceback": [
      "\u001b[0;31m---------------------------------------------------------------------------\u001b[0m",
      "\u001b[0;31mPicklingError\u001b[0m                             Traceback (most recent call last)",
      "\u001b[0;32m<ipython-input-22-c48b90b53560>\u001b[0m in \u001b[0;36m<module>\u001b[0;34m\u001b[0m\n\u001b[1;32m      1\u001b[0m \u001b[0;32mwith\u001b[0m \u001b[0mopen\u001b[0m\u001b[0;34m(\u001b[0m\u001b[0;34m'model.pkl'\u001b[0m\u001b[0;34m,\u001b[0m \u001b[0;34m'wb'\u001b[0m\u001b[0;34m)\u001b[0m \u001b[0;32mas\u001b[0m \u001b[0mf\u001b[0m\u001b[0;34m:\u001b[0m\u001b[0;34m\u001b[0m\u001b[0;34m\u001b[0m\u001b[0m\n\u001b[0;32m----> 2\u001b[0;31m     \u001b[0mpickle\u001b[0m\u001b[0;34m.\u001b[0m\u001b[0mdump\u001b[0m\u001b[0;34m(\u001b[0m\u001b[0mmodel\u001b[0m\u001b[0;34m,\u001b[0m \u001b[0mf\u001b[0m\u001b[0;34m)\u001b[0m\u001b[0;34m\u001b[0m\u001b[0;34m\u001b[0m\u001b[0m\n\u001b[0m",
      "\u001b[0;31mPicklingError\u001b[0m: Can't pickle <function NNRecommender.<lambda> at 0x1a1d745200>: attribute lookup NNRecommender.<lambda> on __main__ failed"
     ]
    }
   ],
   "source": [
    "with open('model.pkl', 'wb') as f:\n",
    "    pickle.dump(model, f)"
   ]
  },
  {
   "cell_type": "code",
   "execution_count": 23,
   "metadata": {},
   "outputs": [],
   "source": [
    "import dill # pip install dill\n",
    "\n",
    "with open('model.pkl', 'wb') as f:\n",
    "    dill.dump(model, f)\n",
    "\n",
    "del model\n",
    "\n",
    "with open('model.pkl', 'rb') as f:\n",
    "    model = dill.load(f)"
   ]
  },
  {
   "cell_type": "code",
   "execution_count": 24,
   "metadata": {},
   "outputs": [
    {
     "data": {
      "text/plain": [
       "[['minimaxir/big-list-of-naughty-strings',\n",
       "  'vinta/awesome-python',\n",
       "  'plasticityai/supersqlite',\n",
       "  'sloria/TextBlob',\n",
       "  'Avik-Jain/100-Days-Of-ML-Code',\n",
       "  'donnemartin/system-design-primer',\n",
       "  'shengqiangzhang/examples-of-web-crawlers',\n",
       "  'mherrmann/fbs',\n",
       "  'scikit-learn/scikit-learn',\n",
       "  'TheAlgorithms/Python',\n",
       "  'ytdl-org/youtube-dl',\n",
       "  'PySimpleGUI/PySimpleGUI',\n",
       "  'fastai/fastai']]"
      ]
     },
     "execution_count": 24,
     "metadata": {},
     "output_type": "execute_result"
    }
   ],
   "source": [
    "model.predict(['streamlit/streamlit,huggingface/transformers,encode/httpx,aws/chalice,maxhumber/chart'])"
   ]
  }
 ],
 "metadata": {
  "kernelspec": {
   "display_name": "Python 3",
   "language": "python",
   "name": "python3"
  },
  "language_info": {
   "codemirror_mode": {
    "name": "ipython",
    "version": 3
   },
   "file_extension": ".py",
   "mimetype": "text/x-python",
   "name": "python",
   "nbconvert_exporter": "python",
   "pygments_lexer": "ipython3",
   "version": "3.7.4"
  }
 },
 "nbformat": 4,
 "nbformat_minor": 2
}
